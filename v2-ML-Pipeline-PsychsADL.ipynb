{
 "cells": [
  {
   "cell_type": "markdown",
   "id": "022a2832",
   "metadata": {},
   "source": [
    "# Causal Machine Learning for Treatment Effect Estimation"
   ]
  },
  {
   "cell_type": "code",
   "execution_count": 1,
   "id": "6d9749f9",
   "metadata": {},
   "outputs": [],
   "source": [
    "# import necessary libraries\n",
    "import pandas as pd\n",
    "import numpy as np\n",
    "import seaborn as sns\n",
    "import matplotlib.pyplot as plt\n",
    "\n",
    "#from sklearn.impute import KNNImputer\n",
    "from sklearn.model_selection import train_test_split, cross_val_score\n",
    "from sklearn.metrics import mean_squared_error, mean_absolute_error, r2_score\n",
    "from sklearn.cluster import KMeans\n",
    "from sklearn.impute import KNNImputer\n",
    "\n",
    "from sklearn.linear_model import Lasso\n",
    "from sklearn.preprocessing import StandardScaler\n",
    "\n",
    "# get standard models\n",
    "from sklearn.linear_model import LogisticRegression\n",
    "from sklearn.linear_model import LinearRegression\n",
    "from sklearn.linear_model import Ridge\n",
    "from sklearn.linear_model import Lasso\n",
    "from sklearn.tree import DecisionTreeRegressor\n",
    "from sklearn.ensemble import RandomForestRegressor\n",
    "from sklearn.ensemble import GradientBoostingRegressor\n",
    "from sklearn.ensemble import AdaBoostRegressor\n",
    "from sklearn.ensemble import ExtraTreesRegressor\n",
    "from sklearn.ensemble import BaggingRegressor\n",
    "from sklearn.ensemble import VotingRegressor\n",
    "from sklearn.ensemble import RandomForestClassifier\n",
    "from sklearn.neural_network import MLPRegressor\n",
    "\n",
    "from sources.doubly_robust import doubly_robust\n",
    "from sources.models.TARNet import TARnetICFR\n",
    "\n",
    "import torch\n",
    "import torch.nn as nn\n",
    "import torch.optim as optim\n",
    "\n",
    "from auxiliary import data_processing, doubly_robust, visualise, visualise_ites, impute_missing_values_knn, run_model, undersample, full_contra_indications_tracker, value_based_contra_indications_tracker, period_decomposition, multicol\n",
    "from icodes import encoding\n",
    "\n",
    "# from datetime import timedelta\n",
    "import warnings \n",
    "warnings.filterwarnings('ignore')"
   ]
  },
  {
   "cell_type": "markdown",
   "id": "cf6bccc9",
   "metadata": {},
   "source": [
    "## 1. Introduction\n",
    "\n",
    "The purpose of this notebook is to provide and end-to-end description of the treatment effect estimation process. This notebook consists of three parts:\n",
    "\n",
    "1. **Data processing**: The first part is the data processing part. Here we basically prepare the data for the ML models.\n",
    "2. **Causal ML Models**: The second part of the notebook consists of a series of causal ML learning models. In particular, we use the causal meta-learning framework. \n",
    "3. **Adadptive Model**: The third part of the notebook is also a machine learning model. However, contrary to the models before, this one was developed by the VU team and allows for more control over the estimation proces. \n",
    "\n",
    "Please find below an overview of the steps we will go through. Note that the boxes do not correspond one-to-one to sections in the notebook, but the general flow is the same. "
   ]
  },
  {
   "cell_type": "markdown",
   "id": "32f80659",
   "metadata": {},
   "source": [
    "![alt text](ModellingOverview.jpg)"
   ]
  },
  {
   "cell_type": "markdown",
   "id": "c3702ec1",
   "metadata": {},
   "source": [
    "## 1.a. Preliminaries \\& Design Choices\n",
    "\n",
    "We first want to get some preliminaries out of the way. In particular, we would like to make some specific **design choices** explicit. Below, we can set the following parameters, thereby modifying specific choices:\n",
    "\n",
    "- ``EXPOSURE_THRESHOLD``: The treatment is binary. However, how much treatment is provided can be changed with this variable. In essence, it determines the cut-off value. For instance, we can set it to 60 minutes in the case of physical therapy (in mins.). Then, patients with more then 60 minutes of PT will be assigned T=1, those below will be T=0.\n",
    "- ``PERIOD_MIN``: Minimal time period between baseline measurement and followup measurement. N.B. If this is set too low, the effect may not yet register. Too high and the effect may have faded out. \n",
    "- ``PERIOD_MAX``: Maximal time period between baseline measurement and followup measurement. N.B. If this is set too low, effect may not yet register. Too high and the effect may have faded out.  \n",
    "- ``REMOVE_MULTI_COL``: Whether or not to remove multicollinear columns. \n",
    "- ``CORRELATION_THRESHOLD``: Threshold for removing collinear columns. \n",
    "- ``UNDERSAMPLE``: Some models perform better when undersampling the minority class. For instance, if there are 1000 cases of patients with PT (T=0) and only 150 with PT (T=1), setting this to ``True`` ensures that 150 patients are sampled from PT (T=0), resulting in 300 observations in total.\n",
    "- ``IMPUTE``: Whether or not to impute missing *covariate* values.\n",
    "- ``PROPENSITY``: Whether or not to add a propensity score to the model.\n",
    "- ``CLEAN_COMPARE``: By default (when this is set to ``False``), the data processing script assigns any observations below ``EXPOSURE_THRESHOLD`` to the control group and  any observation above ``EXPOSURE_THRESHOLD`` to treated. Setting this parameter to ``True`` creates a scenario where *only* observation that did not get any treatment are assigned to the control group. For instance, in the case of PT, we would have a control group of patients getting only 0 mins. of PT and a treated group of patients with, say, more than 60 mins. of PT.\n",
    "- ``TREATMENT``: Name of the treatment variable.\n",
    "- ``TARGET``: Name of the target variable."
   ]
  },
  {
   "cell_type": "code",
   "execution_count": 2,
   "id": "90862091",
   "metadata": {},
   "outputs": [],
   "source": [
    "# set seed\n",
    "np.random.seed(42)\n",
    "\n",
    "# set the exposure threshold for binary dichtomization. In the case of PT, 60 minutes of PT at least. \n",
    "EXPOSURE_THRESHOLD = 45\n",
    "\n",
    "# set the period between observations. \n",
    "PERIOD_MIN = 30#30 # /MAYBE CHECK WITH 60? # EXPOSURE AFTER 3 MONTHS # maybe move to 30-360\n",
    "PERIOD_MAX = 360#90\n",
    "\n",
    "# if we want to move multicollinear columns, set to True\n",
    "REMOVE_MULTI_COL = True\n",
    "\n",
    "# set the threshold for multicollinearity drops \n",
    "CORRELATION_THRESHOLD = 0.6\n",
    "\n",
    "# set to True if we want to undersample\n",
    "UNDERSAMPLE = True #False #True\n",
    "\n",
    "# set to True if we want to impute missing values\n",
    "IMPUTE = True\n",
    "\n",
    "PROPENSITY = True\n",
    "\n",
    "# clean compare (to be used if only > threshold AND treatment = 0)\n",
    "CLEAN_COMPARE = True\n",
    "\n",
    "TREATMENT = 'in3hb' # (minutes or days of psycho-therapy)\n",
    "OUTCOME = 'sADLSF'#'sCPS' "
   ]
  },
  {
   "cell_type": "markdown",
   "id": "a78760c4",
   "metadata": {},
   "source": [
    "Having set the desired parameters, we will now read in the data."
   ]
  },
  {
   "cell_type": "code",
   "execution_count": 3,
   "id": "d77ac00e",
   "metadata": {},
   "outputs": [
    {
     "name": "stdout",
     "output_type": "stream",
     "text": [
      "Treatment before processing 147\n"
     ]
    }
   ],
   "source": [
    "file = \"data/dutch_LTCF_all.csv\"\n",
    "\n",
    "# read data\n",
    "df = pd.read_csv(file)\n",
    "print(f\"Treatment before processing {len(df[df[TREATMENT]>EXPOSURE_THRESHOLD])}\")"
   ]
  },
  {
   "cell_type": "code",
   "execution_count": 4,
   "id": "bbb12e0b",
   "metadata": {},
   "outputs": [],
   "source": [
    "import pandas as pd\n",
    "\n",
    "def csv_to_dict(file_path):\n",
    "    \"\"\"\n",
    "    Reads a CSV file and converts it to a Python dictionary.\n",
    "    The first column of the CSV is assumed to be the keys and the second column the values.\n",
    "\n",
    "    :param file_path: Path to the CSV file\n",
    "    :return: Dictionary with keys and values from the CSV file\n",
    "    \"\"\"\n",
    "    data = pd.read_csv(file_path)\n",
    "    return pd.Series(data.iloc[:, 1].values, index=data.iloc[:, 0]).to_dict()\n",
    "\n",
    "# File path\n",
    "file_path = 'variable_encodings.csv'\n",
    "\n",
    "# Using the function to convert the file to a dictionary\n",
    "code_meaning_dict = csv_to_dict(file_path)"
   ]
  },
  {
   "cell_type": "code",
   "execution_count": 5,
   "id": "5174e3ed",
   "metadata": {},
   "outputs": [],
   "source": [
    "# get all vars that are actually in the data\n",
    "all_vars = []\n",
    "\n",
    "for key in code_meaning_dict.keys():\n",
    "    try:\n",
    "        df[key]\n",
    "        all_vars.append(key)\n",
    "    except:\n",
    "        pass    "
   ]
  },
  {
   "cell_type": "markdown",
   "id": "2f5c38f8",
   "metadata": {},
   "source": [
    "## Part 2. Data Processing\n",
    "\n",
    "In this first part, we will carry out the data processsing. In particular, we would like to select the relevant covariates, make a pre-selection based on patient characteristics (e.g. whether or not contra-indications are present), select the relevant period of observation, impute missing *coviariate* values and, lastly, handle any multi-collinearity. "
   ]
  },
  {
   "cell_type": "markdown",
   "id": "2dbdc92a",
   "metadata": {},
   "source": [
    "Next, we define the lists of covariates, clinical indications and contra-indications"
   ]
  },
  {
   "cell_type": "code",
   "execution_count": 6,
   "id": "f9cbbfe6",
   "metadata": {},
   "outputs": [],
   "source": [
    "clinical_indications = [\n",
    "    \"sDRS\",  \"sABS\", \"ic4\", \"ij2g\",\n",
    "    \"ij2h\", \"ij2i\", \"if7a\", \"if7b\", \"if7c\", \"if1d\", \"ie1i\", \"ie1j\", \"ij2o\", \"if4\",\n",
    "    \"ij6c\", \"sRISE\"\n",
    "]\n",
    "\n",
    "confounders = ['sPAIN', 'ij3', 'ij4']\n",
    "\n",
    "value_based_contra_indications = {'ic1': [5]}\n",
    "other_relevant_covars = ['iA2', 'sAGE_cat']\n",
    "contra_indications = []\n",
    "\n",
    "# list of other relevant variables\n",
    "relevant_vars = ['iA9', 'Clientid', TREATMENT, OUTCOME]"
   ]
  },
  {
   "cell_type": "code",
   "execution_count": 7,
   "id": "7e06cd29",
   "metadata": {},
   "outputs": [
    {
     "name": "stdout",
     "output_type": "stream",
     "text": [
      "Cognitive Skills for Daily Decision Making\n"
     ]
    }
   ],
   "source": [
    "print(encoding[('ic1').lower()])"
   ]
  },
  {
   "cell_type": "markdown",
   "id": "da0f77f4",
   "metadata": {},
   "source": [
    "### 2a. Contra-indications\n",
    "\n",
    "Next, the first thing we want to do is to drop patients that have a contra-indication for the treatment in questions. In the code below, we specify the contra-indications. "
   ]
  },
  {
   "cell_type": "code",
   "execution_count": 8,
   "id": "bf166fd4",
   "metadata": {},
   "outputs": [],
   "source": [
    "contras = lambda x: 1 if x >=1 else 0\n",
    "\n",
    "# create indications column and set to 0\n",
    "df['indications'] = 0\n",
    "\n",
    "# loop over all contra-indications\n",
    "for contra in contra_indications:\n",
    "    # assign 1 to cases with contra-indication\n",
    "    df['indications'] = df[contra].apply(contras)\n",
    "    # drop cases\n",
    "    df = df[df['indications']!= 1]"
   ]
  },
  {
   "cell_type": "markdown",
   "id": "1de53fd0",
   "metadata": {},
   "source": [
    "Finally, for some contra-indications we want to exclude based on particular values only. We can do this by running the script below. "
   ]
  },
  {
   "cell_type": "code",
   "execution_count": 9,
   "id": "411f9b2a",
   "metadata": {},
   "outputs": [
    {
     "name": "stdout",
     "output_type": "stream",
     "text": [
      "5-valued items from Cognitive Skills for Daily Decision Making droped.\n"
     ]
    }
   ],
   "source": [
    "# initialize empty tracker\n",
    "# iterate over columns and corresponding values \n",
    "for key, value in value_based_contra_indications.items():    \n",
    "    # loop over items in list\n",
    "    for i in value:\n",
    "        # drop values\n",
    "        df = df[df[key]!=i]\n",
    "        print(f'{i}-valued items from {encoding[key.lower()]} droped.')"
   ]
  },
  {
   "cell_type": "markdown",
   "id": "4137c386",
   "metadata": {},
   "source": [
    "Having processed the contra-indications, we can now select the necessary columns in the data."
   ]
  },
  {
   "cell_type": "code",
   "execution_count": 10,
   "id": "be681646",
   "metadata": {},
   "outputs": [],
   "source": [
    "all_vars = [i for i in all_vars if i not in clinical_indications+confounders + other_relevant_covars + relevant_vars + contra_indications]"
   ]
  },
  {
   "cell_type": "code",
   "execution_count": 11,
   "id": "926e1e17",
   "metadata": {},
   "outputs": [
    {
     "data": {
      "text/html": [
       "<div>\n",
       "<style scoped>\n",
       "    .dataframe tbody tr th:only-of-type {\n",
       "        vertical-align: middle;\n",
       "    }\n",
       "\n",
       "    .dataframe tbody tr th {\n",
       "        vertical-align: top;\n",
       "    }\n",
       "\n",
       "    .dataframe thead th {\n",
       "        text-align: right;\n",
       "    }\n",
       "</style>\n",
       "<table border=\"1\" class=\"dataframe\">\n",
       "  <thead>\n",
       "    <tr style=\"text-align: right;\">\n",
       "      <th></th>\n",
       "      <th>cACTIV</th>\n",
       "      <th>cADL</th>\n",
       "      <th>sADLLF</th>\n",
       "      <th>iI2aa</th>\n",
       "      <th>iI2ba</th>\n",
       "      <th>iI2ca</th>\n",
       "      <th>iI2da</th>\n",
       "      <th>iI2ea</th>\n",
       "      <th>iI2fa</th>\n",
       "      <th>iI2ga</th>\n",
       "      <th>...</th>\n",
       "      <th>sADLH</th>\n",
       "      <th>sCHESS</th>\n",
       "      <th>sCPS</th>\n",
       "      <th>sCPS2</th>\n",
       "      <th>sDIVERT</th>\n",
       "      <th>aSRI</th>\n",
       "      <th>cADD</th>\n",
       "      <th>cSOCFUNC</th>\n",
       "      <th>sPURS</th>\n",
       "      <th>cURIN</th>\n",
       "    </tr>\n",
       "  </thead>\n",
       "  <tbody>\n",
       "    <tr>\n",
       "      <th>0</th>\n",
       "      <td>0.0</td>\n",
       "      <td>0.0</td>\n",
       "      <td>NaN</td>\n",
       "      <td>NaN</td>\n",
       "      <td>NaN</td>\n",
       "      <td>NaN</td>\n",
       "      <td>NaN</td>\n",
       "      <td>NaN</td>\n",
       "      <td>NaN</td>\n",
       "      <td>NaN</td>\n",
       "      <td>...</td>\n",
       "      <td>0.0</td>\n",
       "      <td>0.0</td>\n",
       "      <td>1.0</td>\n",
       "      <td>3.0</td>\n",
       "      <td>2.0</td>\n",
       "      <td>NaN</td>\n",
       "      <td>0.0</td>\n",
       "      <td>0</td>\n",
       "      <td>0.0</td>\n",
       "      <td>1.0</td>\n",
       "    </tr>\n",
       "    <tr>\n",
       "      <th>1</th>\n",
       "      <td>0.0</td>\n",
       "      <td>2.0</td>\n",
       "      <td>NaN</td>\n",
       "      <td>NaN</td>\n",
       "      <td>NaN</td>\n",
       "      <td>NaN</td>\n",
       "      <td>NaN</td>\n",
       "      <td>NaN</td>\n",
       "      <td>NaN</td>\n",
       "      <td>NaN</td>\n",
       "      <td>...</td>\n",
       "      <td>5.0</td>\n",
       "      <td>0.0</td>\n",
       "      <td>0.0</td>\n",
       "      <td>1.0</td>\n",
       "      <td>1.0</td>\n",
       "      <td>NaN</td>\n",
       "      <td>0.0</td>\n",
       "      <td>0</td>\n",
       "      <td>3.0</td>\n",
       "      <td>2.0</td>\n",
       "    </tr>\n",
       "    <tr>\n",
       "      <th>2</th>\n",
       "      <td>0.0</td>\n",
       "      <td>1.0</td>\n",
       "      <td>13.0</td>\n",
       "      <td>NaN</td>\n",
       "      <td>NaN</td>\n",
       "      <td>NaN</td>\n",
       "      <td>NaN</td>\n",
       "      <td>NaN</td>\n",
       "      <td>NaN</td>\n",
       "      <td>NaN</td>\n",
       "      <td>...</td>\n",
       "      <td>3.0</td>\n",
       "      <td>0.0</td>\n",
       "      <td>2.0</td>\n",
       "      <td>3.0</td>\n",
       "      <td>2.0</td>\n",
       "      <td>1.0</td>\n",
       "      <td>0.0</td>\n",
       "      <td>1</td>\n",
       "      <td>0.0</td>\n",
       "      <td>2.0</td>\n",
       "    </tr>\n",
       "    <tr>\n",
       "      <th>3</th>\n",
       "      <td>0.0</td>\n",
       "      <td>1.0</td>\n",
       "      <td>NaN</td>\n",
       "      <td>NaN</td>\n",
       "      <td>NaN</td>\n",
       "      <td>NaN</td>\n",
       "      <td>NaN</td>\n",
       "      <td>NaN</td>\n",
       "      <td>NaN</td>\n",
       "      <td>NaN</td>\n",
       "      <td>...</td>\n",
       "      <td>3.0</td>\n",
       "      <td>0.0</td>\n",
       "      <td>2.0</td>\n",
       "      <td>NaN</td>\n",
       "      <td>2.0</td>\n",
       "      <td>NaN</td>\n",
       "      <td>0.0</td>\n",
       "      <td>1</td>\n",
       "      <td>0.0</td>\n",
       "      <td>2.0</td>\n",
       "    </tr>\n",
       "    <tr>\n",
       "      <th>4</th>\n",
       "      <td>1.0</td>\n",
       "      <td>NaN</td>\n",
       "      <td>NaN</td>\n",
       "      <td>NaN</td>\n",
       "      <td>NaN</td>\n",
       "      <td>NaN</td>\n",
       "      <td>NaN</td>\n",
       "      <td>NaN</td>\n",
       "      <td>NaN</td>\n",
       "      <td>NaN</td>\n",
       "      <td>...</td>\n",
       "      <td>0.0</td>\n",
       "      <td>0.0</td>\n",
       "      <td>NaN</td>\n",
       "      <td>NaN</td>\n",
       "      <td>1.0</td>\n",
       "      <td>NaN</td>\n",
       "      <td>0.0</td>\n",
       "      <td>0</td>\n",
       "      <td>0.0</td>\n",
       "      <td>1.0</td>\n",
       "    </tr>\n",
       "    <tr>\n",
       "      <th>...</th>\n",
       "      <td>...</td>\n",
       "      <td>...</td>\n",
       "      <td>...</td>\n",
       "      <td>...</td>\n",
       "      <td>...</td>\n",
       "      <td>...</td>\n",
       "      <td>...</td>\n",
       "      <td>...</td>\n",
       "      <td>...</td>\n",
       "      <td>...</td>\n",
       "      <td>...</td>\n",
       "      <td>...</td>\n",
       "      <td>...</td>\n",
       "      <td>...</td>\n",
       "      <td>...</td>\n",
       "      <td>...</td>\n",
       "      <td>...</td>\n",
       "      <td>...</td>\n",
       "      <td>...</td>\n",
       "      <td>...</td>\n",
       "      <td>...</td>\n",
       "    </tr>\n",
       "    <tr>\n",
       "      <th>48137</th>\n",
       "      <td>0.0</td>\n",
       "      <td>2.0</td>\n",
       "      <td>1.0</td>\n",
       "      <td>NaN</td>\n",
       "      <td>NaN</td>\n",
       "      <td>NaN</td>\n",
       "      <td>NaN</td>\n",
       "      <td>NaN</td>\n",
       "      <td>NaN</td>\n",
       "      <td>NaN</td>\n",
       "      <td>...</td>\n",
       "      <td>1.0</td>\n",
       "      <td>NaN</td>\n",
       "      <td>0.0</td>\n",
       "      <td>0.0</td>\n",
       "      <td>2.0</td>\n",
       "      <td>0.0</td>\n",
       "      <td>0.0</td>\n",
       "      <td>0</td>\n",
       "      <td>0.0</td>\n",
       "      <td>1.0</td>\n",
       "    </tr>\n",
       "    <tr>\n",
       "      <th>48138</th>\n",
       "      <td>0.0</td>\n",
       "      <td>1.0</td>\n",
       "      <td>20.0</td>\n",
       "      <td>NaN</td>\n",
       "      <td>NaN</td>\n",
       "      <td>NaN</td>\n",
       "      <td>NaN</td>\n",
       "      <td>NaN</td>\n",
       "      <td>NaN</td>\n",
       "      <td>NaN</td>\n",
       "      <td>...</td>\n",
       "      <td>3.0</td>\n",
       "      <td>NaN</td>\n",
       "      <td>5.0</td>\n",
       "      <td>5.0</td>\n",
       "      <td>2.0</td>\n",
       "      <td>1.0</td>\n",
       "      <td>0.0</td>\n",
       "      <td>0</td>\n",
       "      <td>3.0</td>\n",
       "      <td>0.0</td>\n",
       "    </tr>\n",
       "    <tr>\n",
       "      <th>48139</th>\n",
       "      <td>0.0</td>\n",
       "      <td>1.0</td>\n",
       "      <td>26.0</td>\n",
       "      <td>NaN</td>\n",
       "      <td>NaN</td>\n",
       "      <td>NaN</td>\n",
       "      <td>NaN</td>\n",
       "      <td>NaN</td>\n",
       "      <td>NaN</td>\n",
       "      <td>NaN</td>\n",
       "      <td>...</td>\n",
       "      <td>5.0</td>\n",
       "      <td>NaN</td>\n",
       "      <td>4.0</td>\n",
       "      <td>4.0</td>\n",
       "      <td>NaN</td>\n",
       "      <td>1.0</td>\n",
       "      <td>0.0</td>\n",
       "      <td>0</td>\n",
       "      <td>3.0</td>\n",
       "      <td>2.0</td>\n",
       "    </tr>\n",
       "    <tr>\n",
       "      <th>48140</th>\n",
       "      <td>0.0</td>\n",
       "      <td>0.0</td>\n",
       "      <td>0.0</td>\n",
       "      <td>NaN</td>\n",
       "      <td>NaN</td>\n",
       "      <td>NaN</td>\n",
       "      <td>NaN</td>\n",
       "      <td>NaN</td>\n",
       "      <td>NaN</td>\n",
       "      <td>NaN</td>\n",
       "      <td>...</td>\n",
       "      <td>0.0</td>\n",
       "      <td>NaN</td>\n",
       "      <td>1.0</td>\n",
       "      <td>3.0</td>\n",
       "      <td>2.0</td>\n",
       "      <td>NaN</td>\n",
       "      <td>0.0</td>\n",
       "      <td>0</td>\n",
       "      <td>0.0</td>\n",
       "      <td>1.0</td>\n",
       "    </tr>\n",
       "    <tr>\n",
       "      <th>48141</th>\n",
       "      <td>0.0</td>\n",
       "      <td>2.0</td>\n",
       "      <td>26.0</td>\n",
       "      <td>NaN</td>\n",
       "      <td>NaN</td>\n",
       "      <td>NaN</td>\n",
       "      <td>NaN</td>\n",
       "      <td>NaN</td>\n",
       "      <td>NaN</td>\n",
       "      <td>NaN</td>\n",
       "      <td>...</td>\n",
       "      <td>5.0</td>\n",
       "      <td>NaN</td>\n",
       "      <td>0.0</td>\n",
       "      <td>0.0</td>\n",
       "      <td>3.0</td>\n",
       "      <td>1.0</td>\n",
       "      <td>0.0</td>\n",
       "      <td>0</td>\n",
       "      <td>7.0</td>\n",
       "      <td>1.0</td>\n",
       "    </tr>\n",
       "  </tbody>\n",
       "</table>\n",
       "<p>48054 rows × 49 columns</p>\n",
       "</div>"
      ],
      "text/plain": [
       "       cACTIV  cADL  sADLLF  iI2aa  iI2ba  iI2ca  iI2da  iI2ea  iI2fa  iI2ga  \\\n",
       "0         0.0   0.0     NaN    NaN    NaN    NaN    NaN    NaN    NaN    NaN   \n",
       "1         0.0   2.0     NaN    NaN    NaN    NaN    NaN    NaN    NaN    NaN   \n",
       "2         0.0   1.0    13.0    NaN    NaN    NaN    NaN    NaN    NaN    NaN   \n",
       "3         0.0   1.0     NaN    NaN    NaN    NaN    NaN    NaN    NaN    NaN   \n",
       "4         1.0   NaN     NaN    NaN    NaN    NaN    NaN    NaN    NaN    NaN   \n",
       "...       ...   ...     ...    ...    ...    ...    ...    ...    ...    ...   \n",
       "48137     0.0   2.0     1.0    NaN    NaN    NaN    NaN    NaN    NaN    NaN   \n",
       "48138     0.0   1.0    20.0    NaN    NaN    NaN    NaN    NaN    NaN    NaN   \n",
       "48139     0.0   1.0    26.0    NaN    NaN    NaN    NaN    NaN    NaN    NaN   \n",
       "48140     0.0   0.0     0.0    NaN    NaN    NaN    NaN    NaN    NaN    NaN   \n",
       "48141     0.0   2.0    26.0    NaN    NaN    NaN    NaN    NaN    NaN    NaN   \n",
       "\n",
       "       ...  sADLH  sCHESS  sCPS  sCPS2  sDIVERT  aSRI  cADD  cSOCFUNC  sPURS  \\\n",
       "0      ...    0.0     0.0   1.0    3.0      2.0   NaN   0.0         0    0.0   \n",
       "1      ...    5.0     0.0   0.0    1.0      1.0   NaN   0.0         0    3.0   \n",
       "2      ...    3.0     0.0   2.0    3.0      2.0   1.0   0.0         1    0.0   \n",
       "3      ...    3.0     0.0   2.0    NaN      2.0   NaN   0.0         1    0.0   \n",
       "4      ...    0.0     0.0   NaN    NaN      1.0   NaN   0.0         0    0.0   \n",
       "...    ...    ...     ...   ...    ...      ...   ...   ...       ...    ...   \n",
       "48137  ...    1.0     NaN   0.0    0.0      2.0   0.0   0.0         0    0.0   \n",
       "48138  ...    3.0     NaN   5.0    5.0      2.0   1.0   0.0         0    3.0   \n",
       "48139  ...    5.0     NaN   4.0    4.0      NaN   1.0   0.0         0    3.0   \n",
       "48140  ...    0.0     NaN   1.0    3.0      2.0   NaN   0.0         0    0.0   \n",
       "48141  ...    5.0     NaN   0.0    0.0      3.0   1.0   0.0         0    7.0   \n",
       "\n",
       "       cURIN  \n",
       "0        1.0  \n",
       "1        2.0  \n",
       "2        2.0  \n",
       "3        2.0  \n",
       "4        1.0  \n",
       "...      ...  \n",
       "48137    1.0  \n",
       "48138    0.0  \n",
       "48139    2.0  \n",
       "48140    1.0  \n",
       "48141    1.0  \n",
       "\n",
       "[48054 rows x 49 columns]"
      ]
     },
     "execution_count": 11,
     "metadata": {},
     "output_type": "execute_result"
    }
   ],
   "source": [
    "df[all_vars]"
   ]
  },
  {
   "cell_type": "code",
   "execution_count": 12,
   "id": "586b484e",
   "metadata": {},
   "outputs": [
    {
     "name": "stdout",
     "output_type": "stream",
     "text": [
      "Treatment after selecting covariates 146\n"
     ]
    }
   ],
   "source": [
    "primary_vars = clinical_indications+confounders + other_relevant_covars + relevant_vars + contra_indications\n",
    "\n",
    "df = df[primary_vars + all_vars]\n",
    "\n",
    "print(f\"Treatment after selecting covariates {len(df[df[TREATMENT]>EXPOSURE_THRESHOLD])}\")"
   ]
  },
  {
   "cell_type": "markdown",
   "id": "aa1cdf9c",
   "metadata": {},
   "source": [
    "### 2.b. Baseline-Followup Selection\n",
    "\n",
    "Important to note here is that in this particular setup, our goal is to **estimate the outcome value at follow up from the covariates *and* outcome variable at baseline**. \n",
    "\n",
    "Below you find a schematic depiction of how we want to process the data. As you can see, there are two timelines:\n",
    "\n",
    "1. **Timeline 1**: Naturally processes from baseline to follow up over time, without any intervention in the meantme.\n",
    "2. **Timeline 2**: Same as before, but with the difference that not an intervention has take place at some point in time between baseline and follow up. "
   ]
  },
  {
   "cell_type": "markdown",
   "id": "3a5c28d1",
   "metadata": {},
   "source": [
    "![alt text](TimelineModels.jpg)"
   ]
  },
  {
   "cell_type": "markdown",
   "id": "76f61916",
   "metadata": {},
   "source": [
    "Our goal is therefore to, *for each observation*, take the values (**pre-treatment** covariates, outcome on baseline $y_{t}$) of baseline, and the  values at follow up (outcome on follow up $y_{t+1}$) and store it in a convenient manner. Important to note is that as patient may have *several* of these baseline-followup recors where sometimes an intervention may have occured and sometimes not. We decided to do this to, again, safe as much data as possible. \n",
    "\n",
    "Let us begin by first counting the number of assesments. We do this, because it is not possible to include patients without followup. "
   ]
  },
  {
   "cell_type": "code",
   "execution_count": 13,
   "id": "6297ed64",
   "metadata": {},
   "outputs": [],
   "source": [
    "# get number of assesments\n",
    "counter = lambda x: len(df[df['Clientid']==x])\n",
    "\n",
    "# count number of items\n",
    "df['num_assesments'] = df['Clientid'].apply(counter)"
   ]
  },
  {
   "cell_type": "markdown",
   "id": "e3d2d9af",
   "metadata": {},
   "source": [
    "Let us select only observations with more than 2 assesments. "
   ]
  },
  {
   "cell_type": "code",
   "execution_count": 14,
   "id": "046a82e0",
   "metadata": {},
   "outputs": [
    {
     "name": "stdout",
     "output_type": "stream",
     "text": [
      "44513 observations remaining.\n",
      "Treatment after selecting on number of assesments 135\n"
     ]
    }
   ],
   "source": [
    "# get number of assesments higher than 1\n",
    "df = df[df['num_assesments']>=2]\n",
    "\n",
    "print(f'{len(df)} observations remaining.')\n",
    "print(f\"Treatment after selecting on number of assesments {len(df[df[TREATMENT]>EXPOSURE_THRESHOLD])}\")"
   ]
  },
  {
   "cell_type": "markdown",
   "id": "72f30a38",
   "metadata": {},
   "source": [
    "In the code below, we want to process the data a bit further. First, we want to make sure that the date columns (``iA9``) is in the correct format. Then we want to order based on ID and date. Also, we want to drop missing dates (if there are any) and drop any duplicated observations. Lastly, we want to make sure that the outcome is in the right format (i.e. a ``float``)."
   ]
  },
  {
   "cell_type": "code",
   "execution_count": 15,
   "id": "69f4be75",
   "metadata": {},
   "outputs": [],
   "source": [
    "# convert column to datetime \n",
    "df['iA9'] = pd.to_datetime(df['iA9']) \n",
    "# sort values by ID and date\n",
    "df = df.sort_values(by = ['Clientid', 'iA9'])\n",
    "# drop nans on dates of assesment\n",
    "df = df[df['iA9'].isna()==False]\n",
    "# drop duplicated values\n",
    "df = df.drop_duplicates()\n",
    "df[OUTCOME] = df[OUTCOME].astype(float)"
   ]
  },
  {
   "cell_type": "markdown",
   "id": "43866522",
   "metadata": {},
   "source": [
    "### 2.c Drop Duplicated Values\n",
    "\n",
    "Next, because there may be two assesments on the same date, we also want to drop those (regardless of the reason as inspecting that is beyond the scope of this project notebook). "
   ]
  },
  {
   "cell_type": "code",
   "execution_count": 16,
   "id": "46d2ab96",
   "metadata": {},
   "outputs": [],
   "source": [
    "# Group by 'Clientid' and then apply the duplicate check on 'iA9' within each group\n",
    "duplicated_indices = df.groupby('Clientid').apply(\n",
    "    lambda x: x[x['iA9'].duplicated()].index).explode()\n",
    "\n",
    "# Drop NaN values from the index list if they exist\n",
    "duplicated_indices = duplicated_indices.dropna()\n",
    "\n",
    "# Convert the result into a list if it's not empty\n",
    "if not duplicated_indices.empty:\n",
    "    duplicated_indices = duplicated_indices.tolist()\n",
    "\n",
    "    # Drop the duplicates using the list of indices\n",
    "    df = df.drop(index=duplicated_indices)"
   ]
  },
  {
   "cell_type": "markdown",
   "id": "ac32c7d6",
   "metadata": {},
   "source": [
    "### 2.d. Clean Compare\n",
    "If we want to only compare between those patients that receive either 0 treatment or a treatment above the threshold value, we run this code."
   ]
  },
  {
   "cell_type": "code",
   "execution_count": 17,
   "id": "b68930d7",
   "metadata": {},
   "outputs": [],
   "source": [
    "if CLEAN_COMPARE:\n",
    "    df = df[(df[TREATMENT] <= 0) | (df[TREATMENT] >= EXPOSURE_THRESHOLD)]"
   ]
  },
  {
   "cell_type": "markdown",
   "id": "221ddb34",
   "metadata": {},
   "source": [
    "### 2.e Period Decomposition"
   ]
  },
  {
   "cell_type": "markdown",
   "id": "0f0a67a3",
   "metadata": {},
   "source": [
    "The piece of code (i.e. the function ``period_decomposition``) below is a loop that basically does the following:\n",
    "\n",
    "1. Create a temporary dataframe ``temp_df``. We do this to make sure that there is an empty entity (i.e. data storage) to which we can append new, cleaned and processed observations.\n",
    "2. Then, for each patient we do the following:\n",
    "3. Look at all the observation dates.\n",
    "4. Select the target outcome at follow up and at baseline.\n",
    "5. Append each period to the ``temp_df`` *until running out of dates*. \n",
    "6. Move to the next patient. "
   ]
  },
  {
   "cell_type": "code",
   "execution_count": 18,
   "id": "0e300f07",
   "metadata": {},
   "outputs": [],
   "source": [
    "def period_decomposition(df, target):\n",
    "    # List to store the rows of the new DataFrame\n",
    "    rows = []\n",
    "\n",
    "    # Unique client IDs\n",
    "    client_ids = df['Clientid'].unique()\n",
    "    total = len(client_ids)\n",
    "\n",
    "    for count, client_id in enumerate(client_ids, start=1):\n",
    "        # Inform the user about the progress\n",
    "        if count % 1000 == 0 or count == total:\n",
    "            print(f'{count} of {total} items completed...')\n",
    "\n",
    "        # Extract rows for the current client\n",
    "        client_rows = df[df['Clientid'] == client_id].sort_values('iA9')\n",
    "        client_dates = client_rows['iA9'].tolist()\n",
    "\n",
    "        for i in range(len(client_dates) - 1):\n",
    "            baseline_date = client_dates[i]\n",
    "            followup_date = client_dates[i + 1]\n",
    "\n",
    "            # Extract the rows for baseline and follow-up\n",
    "            baseline_row = client_rows[client_rows['iA9'] == baseline_date]\n",
    "            followup_row = client_rows[client_rows['iA9'] == followup_date]\n",
    "            \n",
    "            # Calculate the outcomes\n",
    "            outcome_t0 = float(baseline_row[target])\n",
    "            outcome_t1 = float(followup_row[target])\n",
    "\n",
    "            # Prepare a new row with all necessary information\n",
    "            new_row = baseline_row.iloc[0].to_dict()\n",
    "            new_row['OutcomeT0'] = outcome_t0\n",
    "            new_row['OutcomeT1'] = outcome_t1\n",
    "            new_row['OutcomeT0Date'] = baseline_date\n",
    "            new_row['OutcomeT1Date'] = followup_date\n",
    "            rows.append(new_row)\n",
    "\n",
    "    # Create a new DataFrame from the list of new rows\n",
    "    temp_df = pd.DataFrame(rows)\n",
    "    print(\"Completed.\")\n",
    "    return temp_df\n"
   ]
  },
  {
   "cell_type": "code",
   "execution_count": 19,
   "id": "4aa46020",
   "metadata": {
    "scrolled": true
   },
   "outputs": [
    {
     "name": "stdout",
     "output_type": "stream",
     "text": [
      "1000 of 8835 items completed...\n",
      "2000 of 8835 items completed...\n",
      "3000 of 8835 items completed...\n",
      "4000 of 8835 items completed...\n",
      "5000 of 8835 items completed...\n",
      "6000 of 8835 items completed...\n",
      "7000 of 8835 items completed...\n",
      "8000 of 8835 items completed...\n",
      "8835 of 8835 items completed...\n",
      "Completed.\n",
      "Treatment after processing 98\n"
     ]
    }
   ],
   "source": [
    "df = period_decomposition(df, target = OUTCOME)\n",
    "print(f\"Treatment after processing {len(df[df[TREATMENT]>EXPOSURE_THRESHOLD])}\")"
   ]
  },
  {
   "cell_type": "markdown",
   "id": "5d2ffe04",
   "metadata": {},
   "source": [
    "### 2.f Dichotomize Treatment Variable\n",
    "\n",
    "Because our model can only deal with binary treatments, we need to convert the continuous treatments into binary ones. We will do that using a simple fuctions. Recall that the threshold has been set using the ``EXPOSURE_THRESHOLD`` variable above."
   ]
  },
  {
   "cell_type": "code",
   "execution_count": 20,
   "id": "baea95fb",
   "metadata": {},
   "outputs": [],
   "source": [
    "binary = lambda x: 1 if x >= EXPOSURE_THRESHOLD else 0\n",
    "# convert treatment to binary\n",
    "df['treatment'] = df[TREATMENT].apply(binary)  \n",
    "df = df.drop(columns = [TREATMENT])"
   ]
  },
  {
   "cell_type": "code",
   "execution_count": 21,
   "id": "3b5068ac",
   "metadata": {},
   "outputs": [
    {
     "data": {
      "text/html": [
       "<div>\n",
       "<style scoped>\n",
       "    .dataframe tbody tr th:only-of-type {\n",
       "        vertical-align: middle;\n",
       "    }\n",
       "\n",
       "    .dataframe tbody tr th {\n",
       "        vertical-align: top;\n",
       "    }\n",
       "\n",
       "    .dataframe thead th {\n",
       "        text-align: right;\n",
       "    }\n",
       "</style>\n",
       "<table border=\"1\" class=\"dataframe\">\n",
       "  <thead>\n",
       "    <tr style=\"text-align: right;\">\n",
       "      <th></th>\n",
       "      <th>sDRS</th>\n",
       "      <th>sABS</th>\n",
       "      <th>ic4</th>\n",
       "      <th>ij2g</th>\n",
       "      <th>ij2h</th>\n",
       "      <th>ij2i</th>\n",
       "      <th>if7a</th>\n",
       "      <th>if7b</th>\n",
       "      <th>if7c</th>\n",
       "      <th>if1d</th>\n",
       "      <th>...</th>\n",
       "      <th>cADD</th>\n",
       "      <th>cSOCFUNC</th>\n",
       "      <th>sPURS</th>\n",
       "      <th>cURIN</th>\n",
       "      <th>num_assesments</th>\n",
       "      <th>OutcomeT0</th>\n",
       "      <th>OutcomeT1</th>\n",
       "      <th>OutcomeT0Date</th>\n",
       "      <th>OutcomeT1Date</th>\n",
       "      <th>treatment</th>\n",
       "    </tr>\n",
       "  </thead>\n",
       "  <tbody>\n",
       "    <tr>\n",
       "      <th>3</th>\n",
       "      <td>0.0</td>\n",
       "      <td>0.0</td>\n",
       "      <td>0.0</td>\n",
       "      <td>0.0</td>\n",
       "      <td>0.0</td>\n",
       "      <td>0.0</td>\n",
       "      <td>0.0</td>\n",
       "      <td>0.0</td>\n",
       "      <td>0.0</td>\n",
       "      <td>0.0</td>\n",
       "      <td>...</td>\n",
       "      <td>0.0</td>\n",
       "      <td>0</td>\n",
       "      <td>2.0</td>\n",
       "      <td>1.0</td>\n",
       "      <td>2</td>\n",
       "      <td>2.0</td>\n",
       "      <td>2.0</td>\n",
       "      <td>2005-07-01</td>\n",
       "      <td>2006-02-14</td>\n",
       "      <td>0</td>\n",
       "    </tr>\n",
       "    <tr>\n",
       "      <th>11</th>\n",
       "      <td>7.0</td>\n",
       "      <td>0.0</td>\n",
       "      <td>1.0</td>\n",
       "      <td>0.0</td>\n",
       "      <td>0.0</td>\n",
       "      <td>0.0</td>\n",
       "      <td>0.0</td>\n",
       "      <td>0.0</td>\n",
       "      <td>0.0</td>\n",
       "      <td>0.0</td>\n",
       "      <td>...</td>\n",
       "      <td>0.0</td>\n",
       "      <td>0</td>\n",
       "      <td>3.0</td>\n",
       "      <td>1.0</td>\n",
       "      <td>3</td>\n",
       "      <td>6.0</td>\n",
       "      <td>7.0</td>\n",
       "      <td>2005-10-05</td>\n",
       "      <td>2006-02-22</td>\n",
       "      <td>0</td>\n",
       "    </tr>\n",
       "    <tr>\n",
       "      <th>17</th>\n",
       "      <td>1.0</td>\n",
       "      <td>0.0</td>\n",
       "      <td>0.0</td>\n",
       "      <td>0.0</td>\n",
       "      <td>0.0</td>\n",
       "      <td>0.0</td>\n",
       "      <td>0.0</td>\n",
       "      <td>0.0</td>\n",
       "      <td>0.0</td>\n",
       "      <td>0.0</td>\n",
       "      <td>...</td>\n",
       "      <td>0.0</td>\n",
       "      <td>0</td>\n",
       "      <td>0.0</td>\n",
       "      <td>0.0</td>\n",
       "      <td>2</td>\n",
       "      <td>7.0</td>\n",
       "      <td>9.0</td>\n",
       "      <td>2005-09-03</td>\n",
       "      <td>2006-01-26</td>\n",
       "      <td>0</td>\n",
       "    </tr>\n",
       "  </tbody>\n",
       "</table>\n",
       "<p>3 rows × 79 columns</p>\n",
       "</div>"
      ],
      "text/plain": [
       "    sDRS  sABS  ic4  ij2g  ij2h  ij2i  if7a  if7b  if7c  if1d  ...  cADD  \\\n",
       "3    0.0   0.0  0.0   0.0   0.0   0.0   0.0   0.0   0.0   0.0  ...   0.0   \n",
       "11   7.0   0.0  1.0   0.0   0.0   0.0   0.0   0.0   0.0   0.0  ...   0.0   \n",
       "17   1.0   0.0  0.0   0.0   0.0   0.0   0.0   0.0   0.0   0.0  ...   0.0   \n",
       "\n",
       "    cSOCFUNC  sPURS  cURIN  num_assesments  OutcomeT0  OutcomeT1  \\\n",
       "3          0    2.0    1.0               2        2.0        2.0   \n",
       "11         0    3.0    1.0               3        6.0        7.0   \n",
       "17         0    0.0    0.0               2        7.0        9.0   \n",
       "\n",
       "    OutcomeT0Date  OutcomeT1Date  treatment  \n",
       "3      2005-07-01     2006-02-14          0  \n",
       "11     2005-10-05     2006-02-22          0  \n",
       "17     2005-09-03     2006-01-26          0  \n",
       "\n",
       "[3 rows x 79 columns]"
      ]
     },
     "execution_count": 21,
     "metadata": {},
     "output_type": "execute_result"
    }
   ],
   "source": [
    "# drop rows with missing outcome or treatment \n",
    "df = df.dropna(subset = ['OutcomeT0', 'OutcomeT1', 'treatment'])\n",
    "df.head(3)"
   ]
  },
  {
   "cell_type": "markdown",
   "id": "13ffd723",
   "metadata": {},
   "source": [
    "### 2.g Select Relevant Period\n",
    "\n",
    "Because the base data is too crude (the time periods between follow-up and baseline may be too far apart), we want to select a suitable period between observations. In essence, we aim to select a time window which is, on the one hand, determined by the minimum time (``PERIOD_MIN``) between baseline measurement and follow-up measurement and the maximum of that time window (``PERIOD_MAX``)."
   ]
  },
  {
   "cell_type": "code",
   "execution_count": 22,
   "id": "2feba781",
   "metadata": {},
   "outputs": [
    {
     "data": {
      "text/plain": [
       "108"
      ]
     },
     "execution_count": 22,
     "metadata": {},
     "output_type": "execute_result"
    }
   ],
   "source": [
    "# get difference between dates\n",
    "df['date_diff'] = df['OutcomeT1Date'] - df['OutcomeT0Date'] \n",
    "df['date_diff'] = df['date_diff'].dt.days \n",
    "\n",
    "# select relevant period\n",
    "df = df[df['date_diff'] <= PERIOD_MAX]\n",
    "df = df[df['date_diff'] >= PERIOD_MIN]\n",
    "\n",
    "df = df.drop(columns = ['OutcomeT1Date', 'OutcomeT0Date', 'date_diff', 'iA9', OUTCOME, 'Clientid'])\n",
    "# examine how many treatment observations are left\n",
    "len(df[df['treatment']==1])"
   ]
  },
  {
   "cell_type": "markdown",
   "id": "479d5175",
   "metadata": {},
   "source": [
    "### 2.h Impute Missing Values\n",
    "\n",
    "In this part, we impute missing values. We use a standard KNN-imputer. If desired, it is possible to change the number of neighbours. Keep in mind that we can set this to ``False`` if we do not want to run it,"
   ]
  },
  {
   "cell_type": "code",
   "execution_count": 23,
   "id": "ff73cf5e",
   "metadata": {},
   "outputs": [
    {
     "data": {
      "text/plain": [
       "Index(['sDRS', 'sABS', 'ic4', 'ij2g', 'ij2h', 'ij2i', 'if7a', 'if7b', 'if7c',\n",
       "       'if1d', 'ie1i', 'ie1j', 'ij2o', 'if4', 'ij6c', 'sRISE', 'sPAIN', 'ij3',\n",
       "       'ij4', 'iA2', 'sAGE_cat', 'cACTIV', 'cADL', 'sADLLF', 'iI2aa', 'iI2ba',\n",
       "       'iI2ca', 'iI2da', 'iI2ea', 'iI2fa', 'iI2ga', 'iI2ha', 'iI2ia', 'iI2ja',\n",
       "       'iI2ka', 'iI2la', 'iI2ma', 'cDRUG', 'cBEHAV', 'sBMI', 'cBOWEL',\n",
       "       'cCARDIO', 'cmifi', 'cCOGNIT', 'cCOMMUN', 'sDbSI', 'cDEHYD', 'cDELIR',\n",
       "       'iI2na', 'iI2oa', 'cFALLS', 'cFEEDTB', 'sFI_corrected_long', 'iI2ebb',\n",
       "       'cMOOD', 'cNUTR', 'cPAIN', 'cPACTIV', 'cPULCER', 'iB4', 'sADLH',\n",
       "       'sCHESS', 'sCPS', 'sCPS2', 'sDIVERT', 'aSRI', 'cADD', 'cSOCFUNC',\n",
       "       'sPURS', 'cURIN', 'num_assesments', 'OutcomeT0', 'OutcomeT1',\n",
       "       'treatment'],\n",
       "      dtype='object')"
      ]
     },
     "execution_count": 23,
     "metadata": {},
     "output_type": "execute_result"
    }
   ],
   "source": [
    "df.columns"
   ]
  },
  {
   "cell_type": "code",
   "execution_count": 24,
   "id": "e749d27d",
   "metadata": {},
   "outputs": [
    {
     "name": "stdout",
     "output_type": "stream",
     "text": [
      "sDRS\n",
      "sABS\n",
      "ic4\n",
      "ij2g\n",
      "ij2h\n",
      "ij2i\n",
      "if7a\n",
      "if7b\n",
      "if7c\n",
      "if1d\n",
      "ie1i\n",
      "ie1j\n",
      "ij2o\n",
      "if4\n",
      "ij6c\n",
      "sRISE\n",
      "sPAIN\n",
      "ij3\n",
      "ij4\n",
      "iA2\n",
      "sAGE_cat\n",
      "cACTIV\n",
      "cADL\n",
      "sADLLF\n",
      "iI2aa\n",
      "iI2ba\n",
      "iI2ca\n",
      "iI2da\n",
      "iI2ea\n",
      "iI2fa\n",
      "iI2ga\n",
      "iI2ha\n",
      "iI2ia\n",
      "iI2ja\n",
      "iI2ka\n",
      "iI2la\n",
      "iI2ma\n",
      "cDRUG\n",
      "cBEHAV\n",
      "sBMI\n",
      "cBOWEL\n",
      "cCARDIO\n",
      "cmifi\n",
      "cCOGNIT\n",
      "cCOMMUN\n",
      "sDbSI\n",
      "cDEHYD\n",
      "cDELIR\n",
      "iI2na\n",
      "iI2oa\n",
      "cFALLS\n",
      "cFEEDTB\n",
      "sFI_corrected_long\n",
      "iI2ebb\n",
      "Could not impute iI2ebb. Dropped.\n",
      "cMOOD\n",
      "cNUTR\n",
      "cPAIN\n",
      "cPACTIV\n",
      "cPULCER\n",
      "iB4\n",
      "sADLH\n",
      "sCHESS\n",
      "sCPS\n",
      "sCPS2\n",
      "sDIVERT\n",
      "aSRI\n",
      "cADD\n",
      "cSOCFUNC\n",
      "sPURS\n",
      "cURIN\n",
      "num_assesments\n",
      "OutcomeT0\n",
      "OutcomeT1\n",
      "treatment\n"
     ]
    }
   ],
   "source": [
    "#imputed_df = df.copy()\n",
    "\n",
    "# Initialize KNNImputer with the specified number of neighbors\n",
    "imputer = KNNImputer(n_neighbors=5)\n",
    "\n",
    "for col in df.columns:\n",
    "    print(col)\n",
    "    try:\n",
    "        df[[col]] = imputer.fit_transform(df[[col]].values)\n",
    "    except:\n",
    "        print(f\"Could not impute {col}. Dropped.\")\n",
    "        df = df.drop(columns = [col])\n",
    "        "
   ]
  },
  {
   "cell_type": "markdown",
   "id": "f1a768ca",
   "metadata": {},
   "source": [
    "### 2.i Handle Multicollinearity\n",
    "\n",
    "Here we will handle multi-collinear columns. Keep in mind that we can set this to ``False`` if we do not want to run it,"
   ]
  },
  {
   "cell_type": "code",
   "execution_count": 25,
   "id": "ba7767c0",
   "metadata": {},
   "outputs": [],
   "source": [
    "if REMOVE_MULTI_COL:\n",
    "    df = multicol(df, CORRELATION_THRESHOLD)"
   ]
  },
  {
   "cell_type": "markdown",
   "id": "7e9f7af4",
   "metadata": {},
   "source": [
    "### 2k. Automated Feature Imporances\n",
    "\n",
    "In the next subsection, we obtain the most relevant features (according to the model). Think of it as an automated confounder detection tool. "
   ]
  },
  {
   "cell_type": "code",
   "execution_count": 26,
   "id": "dd69fcfa",
   "metadata": {},
   "outputs": [],
   "source": [
    "df_columns = df.columns\n",
    "# drop num_assesment column, not relevant anymore\n",
    "df = df.drop(columns = ['num_assesments'])\n",
    "\n",
    "X = df.drop(columns = ['OutcomeT1', 'OutcomeT0'])\n",
    "y = df['OutcomeT1']\n",
    "feature_column_names = df.drop(columns = ['OutcomeT1', 'OutcomeT0']).columns"
   ]
  },
  {
   "cell_type": "code",
   "execution_count": 27,
   "id": "8534fbbb",
   "metadata": {},
   "outputs": [],
   "source": [
    "# perform lasso regression to obtain most important features\n",
    "scaler = StandardScaler()\n",
    "X_scaled = scaler.fit_transform(X)\n",
    "lasso = Lasso(alpha=0.1)\n",
    "lasso.fit(X_scaled, y)\n",
    "\n",
    "importance = np.abs(lasso.coef_)"
   ]
  },
  {
   "cell_type": "code",
   "execution_count": 28,
   "id": "beeb1f21",
   "metadata": {
    "scrolled": false
   },
   "outputs": [
    {
     "name": "stdout",
     "output_type": "stream",
     "text": [
      "Most important features (in order):\n",
      "aSRI: Self-reliance Index for HC.\n",
      "cPULCER: Pressure Ulcer CAP.\n",
      "cADL: ADL CAP.\n",
      "ij4: Fatigue.\n",
      "cPACTIV: Physical Activity Promotion CAP.\n",
      "ij2i: Hallucinations False sensory perceptions.\n",
      "cADD: Smoking and Drinking CAP.\n",
      "cCARDIO: Cardio-respiratory CAP.\n",
      "ij6c: End-stage disease, 6 or fewer months to live.\n",
      "cURIN: Urinary Incontinence CAP.\n",
      "cFEEDTB: Feeding Tube CAP.\n",
      "cSOCFUNC: Social Function CAP.\n",
      "sDbSI: Deafblind Severity Index 0-5 range.\n",
      "cDEHYD: Dehydration CAP.\n",
      "cACTIV: Activities CAP.\n",
      "cCOMMUN: Communication CAP.\n",
      "if4: Major life stressors in last  last 90 days.\n",
      "iA2: Gender.\n",
      "cDELIR: Delirium CAP.\n"
     ]
    }
   ],
   "source": [
    "feature_names = np.array(feature_column_names)  # replace with your column names\n",
    "important_features = feature_names[importance > 0]\n",
    "sorted_idx = np.argsort(importance[importance > 0])[::-1]\n",
    "sorted_important_features = important_features[sorted_idx]\n",
    "\n",
    "print(\"Most important features (in order):\")\n",
    "for feature in sorted_important_features:\n",
    "    try:\n",
    "        print(f'{feature}: {encoding[feature.lower()]}.')\n",
    "    except:\n",
    "        pass"
   ]
  },
  {
   "cell_type": "code",
   "execution_count": 29,
   "id": "eff7bf1e",
   "metadata": {},
   "outputs": [],
   "source": [
    "# check which variables are relevant for the prediction according to the model\n",
    "all_vars = []\n",
    "\n",
    "# select variables\n",
    "for feature in df_columns: \n",
    "#     if feature in feature_names[importance > 0] and feature not in primary_vars:\n",
    "#         print(feature)#all_vars.append\n",
    "    if feature in feature_names[importance > 0] or feature in primary_vars or feature in ['OutcomeT0','OutcomeT1', 'treatment']:\n",
    "        #print(feature)#all_vars.append\n",
    "        all_vars.append(feature)"
   ]
  },
  {
   "cell_type": "markdown",
   "id": "a372ca3b",
   "metadata": {},
   "source": [
    "### 2.j Handle Empty Columns\n",
    "\n",
    "In the process, it may be that we end up with columns that contain only $0$ values. We want to drop these columns, as they are not informative."
   ]
  },
  {
   "cell_type": "code",
   "execution_count": 30,
   "id": "b6579421",
   "metadata": {},
   "outputs": [
    {
     "ename": "KeyError",
     "evalue": "'ii2ma'",
     "output_type": "error",
     "traceback": [
      "\u001b[1;31m---------------------------------------------------------------------------\u001b[0m",
      "\u001b[1;31mKeyError\u001b[0m                                  Traceback (most recent call last)",
      "\u001b[1;32mC:\\Users\\LOUK~1.SMA\\AppData\\Local\\Temp\\2/ipykernel_8208/3069367537.py\u001b[0m in \u001b[0;36m<module>\u001b[1;34m\u001b[0m\n\u001b[0;32m      5\u001b[0m \u001b[1;32mfor\u001b[0m \u001b[0mcol\u001b[0m \u001b[1;32min\u001b[0m \u001b[0mX\u001b[0m\u001b[1;33m:\u001b[0m\u001b[1;33m\u001b[0m\u001b[1;33m\u001b[0m\u001b[0m\n\u001b[0;32m      6\u001b[0m     \u001b[1;32mif\u001b[0m \u001b[0mlen\u001b[0m\u001b[1;33m(\u001b[0m\u001b[0mdf\u001b[0m\u001b[1;33m[\u001b[0m\u001b[0mdf\u001b[0m\u001b[1;33m[\u001b[0m\u001b[0mcol\u001b[0m\u001b[1;33m]\u001b[0m\u001b[1;33m==\u001b[0m\u001b[1;36m0\u001b[0m\u001b[1;33m]\u001b[0m\u001b[1;33m)\u001b[0m \u001b[1;33m==\u001b[0m \u001b[0mlen\u001b[0m\u001b[1;33m(\u001b[0m\u001b[0mdf\u001b[0m\u001b[1;33m)\u001b[0m\u001b[1;33m:\u001b[0m\u001b[1;33m\u001b[0m\u001b[1;33m\u001b[0m\u001b[0m\n\u001b[1;32m----> 7\u001b[1;33m         \u001b[0mprint\u001b[0m\u001b[1;33m(\u001b[0m\u001b[1;34mf\"{col} - {encoding[col.lower()]} dropped.\"\u001b[0m \u001b[1;33m)\u001b[0m\u001b[1;33m\u001b[0m\u001b[1;33m\u001b[0m\u001b[0m\n\u001b[0m\u001b[0;32m      8\u001b[0m         \u001b[0mdf\u001b[0m \u001b[1;33m=\u001b[0m \u001b[0mdf\u001b[0m\u001b[1;33m.\u001b[0m\u001b[0mdrop\u001b[0m\u001b[1;33m(\u001b[0m\u001b[0mcolumns\u001b[0m \u001b[1;33m=\u001b[0m \u001b[1;33m[\u001b[0m\u001b[0mcol\u001b[0m\u001b[1;33m]\u001b[0m\u001b[1;33m)\u001b[0m\u001b[1;33m\u001b[0m\u001b[1;33m\u001b[0m\u001b[0m\n",
      "\u001b[1;31mKeyError\u001b[0m: 'ii2ma'"
     ]
    }
   ],
   "source": [
    "# get a list of coviariate columns\n",
    "X = df.drop(columns = ['OutcomeT1', 'OutcomeT0', 'treatment']).columns\n",
    "\n",
    "# drop columns that only have 0 values\n",
    "for col in X:\n",
    "    if len(df[df[col]==0]) == len(df):\n",
    "        print(f\"{col} - {encoding[col.lower()]} dropped.\" )\n",
    "        df = df.drop(columns = [col])"
   ]
  },
  {
   "cell_type": "markdown",
   "id": "391772f0",
   "metadata": {},
   "source": [
    "### 2.k Store CSV\n",
    "\n",
    "In the last part of this notebook, we will store that data."
   ]
  },
  {
   "cell_type": "code",
   "execution_count": 31,
   "id": "98b6e9b6",
   "metadata": {},
   "outputs": [],
   "source": [
    "#df = df.drop(columns = 'num_assesments')\n",
    "df.to_csv(f\"data/03-10-2023-Dutch_LTCF_cleaned_data_with_selected_covar_{TREATMENT}-{OUTCOME}.csv\", index = False)"
   ]
  },
  {
   "cell_type": "markdown",
   "id": "a9e28108",
   "metadata": {},
   "source": [
    "### Note to Teams: Please Start Here\n",
    "\n",
    "**MAKE SURE THAT THE DATA IS IN THE EXACT FORMAT AS BELOW.**\n",
    "\n",
    "Checklist:\n",
    "\n",
    "1. The covariates must come first.\n",
    "2. Then, there must be the outcome at baseline called ``OutcomeT0``.\n",
    "3. There must be an outcome at followup called ``OutcomeT1``.\n",
    "4. You may have a propensity score columns (``ps``), but this is not required. Same for clusters.\n",
    "5. There must be a treatment column *at the end* called ``treatment``. \n",
    "\n",
    "Good luck!"
   ]
  },
  {
   "cell_type": "markdown",
   "id": "2d09e493",
   "metadata": {},
   "source": [
    "## Part 3. Machine Learning\n",
    "\n",
    "Having processed the data, we can now move on the the machine learning (ML) part. Recall that we model using the meta-learning paradigm. Below is a schematic depiction of the process."
   ]
  },
  {
   "cell_type": "markdown",
   "id": "f21542a9",
   "metadata": {},
   "source": [
    "![alt text](ModelGoal.jpg)"
   ]
  },
  {
   "cell_type": "markdown",
   "id": "fa5e0980",
   "metadata": {},
   "source": [
    "As can be seen, for a given patient, we can - *after training* - provide the details of that patient. These details are the outcome at baseline (``OutcomeT0``), the covariates and whether or not we include treatment. This allows us to compute the **individual treatment effect** (ITE), the predicted effect unter treatment minus the predicted effect under control.\n",
    "\n",
    "However, before we are able to estimate the ITE for a patient, we need to train the model. In meta-learning we always train two models. The first model is trained on the control group and the second model is trained on the treated group. Let us now first state what the ``outcome`` and ``intervention`` variables are.  "
   ]
  },
  {
   "cell_type": "markdown",
   "id": "0b4a4fab",
   "metadata": {},
   "source": [
    "Next, we want to select the models. Here we will use ``RandomForestRegressor()``."
   ]
  },
  {
   "cell_type": "code",
   "execution_count": 32,
   "id": "3c0f03e0",
   "metadata": {},
   "outputs": [],
   "source": [
    "model0 = RandomForestRegressor()\n",
    "model1 = RandomForestRegressor()"
   ]
  },
  {
   "cell_type": "markdown",
   "id": "f5363a98",
   "metadata": {},
   "source": [
    "Then, we want to retrieve the data. We can use the data from above, but here we will read the file. "
   ]
  },
  {
   "cell_type": "code",
   "execution_count": 33,
   "id": "45337bf7",
   "metadata": {},
   "outputs": [],
   "source": [
    "# call your data file here\n",
    "FILE = f\"data/03-10-2023-Dutch_LTCF_cleaned_data_with_selected_covar_{TREATMENT}-{OUTCOME}.csv\""
   ]
  },
  {
   "cell_type": "markdown",
   "id": "f3ac62fe",
   "metadata": {},
   "source": [
    "Afterwards, we can run the model. The only thing to do is to run the ``run_model``-function below. "
   ]
  },
  {
   "cell_type": "code",
   "execution_count": 34,
   "id": "c87d1784",
   "metadata": {},
   "outputs": [
    {
     "name": "stdout",
     "output_type": "stream",
     "text": [
      "DF lenght after undersampling: 216\n"
     ]
    }
   ],
   "source": [
    "metrics, predictions_t, predictions_c, y_test_t, y_test_c, ites_test, ites_train, X_test_t, X_test_c = run_model(file = FILE, model0 = model0, model1 = model1, undersampled = UNDERSAMPLE, machine = \"RandomForest\", num_iter = 1)"
   ]
  },
  {
   "cell_type": "markdown",
   "id": "59144fd5",
   "metadata": {},
   "source": [
    "We can now examine the performance of the model by calling ``metrics``."
   ]
  },
  {
   "cell_type": "code",
   "execution_count": 35,
   "id": "a23472f1",
   "metadata": {},
   "outputs": [
    {
     "data": {
      "text/html": [
       "<div>\n",
       "<style scoped>\n",
       "    .dataframe tbody tr th:only-of-type {\n",
       "        vertical-align: middle;\n",
       "    }\n",
       "\n",
       "    .dataframe tbody tr th {\n",
       "        vertical-align: top;\n",
       "    }\n",
       "\n",
       "    .dataframe thead th {\n",
       "        text-align: right;\n",
       "    }\n",
       "</style>\n",
       "<table border=\"1\" class=\"dataframe\">\n",
       "  <thead>\n",
       "    <tr style=\"text-align: right;\">\n",
       "      <th></th>\n",
       "      <th>RandomForest</th>\n",
       "    </tr>\n",
       "  </thead>\n",
       "  <tbody>\n",
       "    <tr>\n",
       "      <th>MAE_C</th>\n",
       "      <td>1.570000</td>\n",
       "    </tr>\n",
       "    <tr>\n",
       "      <th>MAE_T</th>\n",
       "      <td>0.860606</td>\n",
       "    </tr>\n",
       "    <tr>\n",
       "      <th>MSE_C</th>\n",
       "      <td>3.588491</td>\n",
       "    </tr>\n",
       "    <tr>\n",
       "      <th>MSE_T</th>\n",
       "      <td>3.747163</td>\n",
       "    </tr>\n",
       "    <tr>\n",
       "      <th>R2_C</th>\n",
       "      <td>0.797634</td>\n",
       "    </tr>\n",
       "    <tr>\n",
       "      <th>R2_T</th>\n",
       "      <td>0.516644</td>\n",
       "    </tr>\n",
       "  </tbody>\n",
       "</table>\n",
       "</div>"
      ],
      "text/plain": [
       "       RandomForest\n",
       "MAE_C      1.570000\n",
       "MAE_T      0.860606\n",
       "MSE_C      3.588491\n",
       "MSE_T      3.747163\n",
       "R2_C       0.797634\n",
       "R2_T       0.516644"
      ]
     },
     "execution_count": 35,
     "metadata": {},
     "output_type": "execute_result"
    }
   ],
   "source": [
    "metrics"
   ]
  },
  {
   "cell_type": "markdown",
   "id": "9644e60d",
   "metadata": {},
   "source": [
    "We can also visualise the model's *factual* predicted performance by calling the ``visualise`` function."
   ]
  },
  {
   "cell_type": "code",
   "execution_count": 36,
   "id": "61c67a82",
   "metadata": {},
   "outputs": [
    {
     "data": {
      "image/png": "[encoded data removed]",
      "text/plain": [
       "<Figure size 864x432 with 1 Axes>"
      ]
     },
     "metadata": {},
     "output_type": "display_data"
    }
   ],
   "source": [
    "machine = \"RandomForest\"\n",
    "visualise(predictions_t, predictions_c, y_test_t, y_test_c, machine=machine, target=OUTCOME, intervention=TREATMENT)"
   ]
  },
  {
   "cell_type": "markdown",
   "id": "2f8c4e25",
   "metadata": {},
   "source": [
    "Also, if we want to visualize the ITES, we can run the following function (``visualise_ites``):"
   ]
  },
  {
   "cell_type": "code",
   "execution_count": 37,
   "id": "54274955",
   "metadata": {},
   "outputs": [
    {
     "data": {
      "image/png": "[encoded data removed]",
      "text/plain": [
       "<Figure size 864x432 with 1 Axes>"
      ]
     },
     "metadata": {},
     "output_type": "display_data"
    }
   ],
   "source": [
    "visualise_ites(ites_test, machine = machine, intervention = TREATMENT, target = OUTCOME)"
   ]
  },
  {
   "cell_type": "code",
   "execution_count": 38,
   "id": "5367029e",
   "metadata": {},
   "outputs": [],
   "source": [
    "#visualise_ites(ites_train, machine = machine, intervention = TREATMENT, target = OUTCOME)"
   ]
  },
  {
   "cell_type": "markdown",
   "id": "55e356b6",
   "metadata": {},
   "source": [
    "## Part 4. Adaptive Model\n",
    "\n",
    "In this last part, we will predict the treatment effect using an adaptive model. This model was developed by us. As can be seen, there is a bit more coding involved, but the benefit is that it is easier to adapt this model to our preferences. "
   ]
  },
  {
   "cell_type": "markdown",
   "id": "1d1d8a6e",
   "metadata": {},
   "source": [
    "The first step is to make sure that our model runs on the proper device. "
   ]
  },
  {
   "cell_type": "code",
   "execution_count": 39,
   "id": "4126a786",
   "metadata": {},
   "outputs": [],
   "source": [
    "device = torch.device(\"cpu\")"
   ]
  },
  {
   "cell_type": "markdown",
   "id": "61593339",
   "metadata": {},
   "source": [
    "It is useful to have a small function that easily converts arrays to the correct ``torch``-objects: tensors."
   ]
  },
  {
   "cell_type": "code",
   "execution_count": 40,
   "id": "1f1eb063",
   "metadata": {},
   "outputs": [],
   "source": [
    "to_tensor = lambda x: torch.tensor(np.array(x), dtype = torch.float32).to(device)"
   ]
  },
  {
   "cell_type": "code",
   "execution_count": 41,
   "id": "598f600a",
   "metadata": {},
   "outputs": [],
   "source": [
    "FILE = f\"data/03-10-2023-Dutch_LTCF_cleaned_data_with_selected_covar_{TREATMENT}-{OUTCOME}.csv\"\n",
    "df = pd.read_csv(FILE)\n",
    "\n",
    "# nan_cols = list(df.columns[df.isna().any()])\n",
    "# df = df.drop(columns = [nan_cols])\n",
    "\n",
    "# apply min-max normalisation\n",
    "X = df.drop(columns = ['treatment', 'OutcomeT1']).columns\n",
    "df[X] = (df[X] - df[X].min()) / (df[X].max() - df[X].min())"
   ]
  },
  {
   "cell_type": "code",
   "execution_count": 42,
   "id": "512baadf",
   "metadata": {},
   "outputs": [],
   "source": [
    "df = df.dropna(axis=1)#columns[df.isna().any()]"
   ]
  },
  {
   "cell_type": "markdown",
   "id": "82db0f23",
   "metadata": {},
   "source": [
    "Because the model is a neural-network based architecture, it is usually helpful to apply min-max normalisation which converts the column values to \\[0,1\\] ranges."
   ]
  },
  {
   "cell_type": "markdown",
   "id": "d0436003",
   "metadata": {},
   "source": [
    "### 4 a. Perform Undersampling Procedure"
   ]
  },
  {
   "cell_type": "code",
   "execution_count": 43,
   "id": "b592fb3c",
   "metadata": {},
   "outputs": [
    {
     "name": "stdout",
     "output_type": "stream",
     "text": [
      "DF lenght after undersampling: 216\n"
     ]
    }
   ],
   "source": [
    "if UNDERSAMPLE:\n",
    "    freq_treated = len(df[df['treatment']==1])\n",
    "    control = df[df['treatment']==0].sample(freq_treated)\n",
    "    treated = df[df['treatment']==1]\n",
    "    df = pd.concat((control, treated))\n",
    "    \n",
    "print(f'DF lenght after undersampling: {len(df)}')"
   ]
  },
  {
   "cell_type": "markdown",
   "id": "7edac5f6",
   "metadata": {},
   "source": [
    "### 4.b Train-Test Splitting\n",
    "\n",
    "In the cell below, we perform train-test split. Note that we also split the train and test data into two groups: a control group and a treated group. Even though we do not explicItely use for train, it will be useful for the (sub-)group evaluation later on."
   ]
  },
  {
   "cell_type": "code",
   "execution_count": 44,
   "id": "7b5fb31d",
   "metadata": {},
   "outputs": [],
   "source": [
    "# variable setting for treatment\n",
    "t = 'treatment'\n",
    "# select the relevant outcome\n",
    "y = \"OutcomeT1\" \n",
    "# specify test size\n",
    "test_size = 0.2\n",
    "\n",
    "# Split groups into train and test\n",
    "X_train, X_test, y_train, y_test = train_test_split(df.drop(columns = [y]), df[['treatment', y]], test_size=test_size, random_state=42)"
   ]
  },
  {
   "cell_type": "markdown",
   "id": "47bab5c7",
   "metadata": {},
   "source": [
    "### 4.c Propensity Score Computation"
   ]
  },
  {
   "cell_type": "code",
   "execution_count": 45,
   "id": "72ccaf06",
   "metadata": {},
   "outputs": [],
   "source": [
    "# predict the propensity score\n",
    "if PROPENSITY:\n",
    "    X_train[\"OutcomeT1\"] = y_train[\"OutcomeT1\"]\n",
    "    X_test[\"OutcomeT1\"] = y_test[\"OutcomeT1\"]\n",
    "    X = X_train.drop(columns = ['treatment']).columns\n",
    "    X = X_test.drop(columns = ['treatment']).columns\n",
    "    ps_model = LogisticRegression(C=1e2, max_iter=10000).fit(X_train[X], y_train['treatment'])\n",
    "    X_train['ps'] = ps_model.predict_proba(X_train[X])[:, 1]\n",
    "    X_test['ps'] = ps_model.predict_proba(X_test[X])[:, 1]\n",
    "    \n",
    "    # ensure that treatment is last column\n",
    "    X_train['treatment_new'] =  X_train['treatment']\n",
    "    X_train = X_train.drop(columns = ['treatment'])\n",
    "    X_train = X_train.rename(columns = {'treatment_new': 'treatment'})\n",
    "    \n",
    "    X_test['treatment_new'] =  X_test['treatment']\n",
    "    X_test = X_test.drop(columns = ['treatment'])\n",
    "    X_test = X_test.rename(columns = {'treatment_new': 'treatment'})\n",
    "    \n",
    "    # drop columns\n",
    "    #X_train = X_train.drop(columns = [\"OutcomeT1\"])\n",
    "    #X_test = X_test.drop(columns = [\"OutcomeT1\"])\n",
    "    #X_train = X_train.drop(columns = [\"OutcomeT1\"])"
   ]
  },
  {
   "cell_type": "code",
   "execution_count": 46,
   "id": "84e6cda5",
   "metadata": {},
   "outputs": [
    {
     "name": "stdout",
     "output_type": "stream",
     "text": [
      "Estimated outcome under control 6.751402502155483.\n",
      "Estimated outcome under treatment 4.721241994043789.\n",
      "tensor(-2.1223)\n"
     ]
    }
   ],
   "source": [
    "X = df.drop(columns = ['OutcomeT1', 'treatment']).columns\n",
    "#X_train = X_train.drop(columns = [\"ps\"])\n",
    "\n",
    "# Estimate the average treatment effect (group level)\n",
    "tau_est = doubly_robust(X_train, X=X, T='treatment', Y='OutcomeT1')\n",
    "tau_est = torch.tensor(tau_est, dtype = torch.float32).to(device)\n",
    "print(tau_est)\n",
    "\n",
    "# drop columns\n",
    "X_train = X_train.drop(columns = [\"OutcomeT1\"])\n",
    "X_test = X_test.drop(columns = [\"OutcomeT1\"])"
   ]
  },
  {
   "cell_type": "markdown",
   "id": "b357dffa",
   "metadata": {},
   "source": [
    "We also want to make sure that the data stuctures are in the right format. For this, we use ``to_tensor``."
   ]
  },
  {
   "cell_type": "code",
   "execution_count": 47,
   "id": "f3ccf203",
   "metadata": {},
   "outputs": [],
   "source": [
    "y_t = y_train[y_train['treatment']==1][y]\n",
    "y_c = y_train[y_train['treatment']==0][y]\n",
    "\n",
    "y_test_t = y_test[y_test['treatment']==1][y]\n",
    "y_test_c = y_test[y_test['treatment']==0][y]"
   ]
  },
  {
   "cell_type": "code",
   "execution_count": 48,
   "id": "fb3d2ea9",
   "metadata": {},
   "outputs": [],
   "source": [
    "# convert output to tensors\n",
    "x, y, y_t, y_c, x_test = to_tensor(X_train), to_tensor(y_train), to_tensor(y_t), to_tensor(y_c), to_tensor(X_test)"
   ]
  },
  {
   "cell_type": "markdown",
   "id": "5076a548",
   "metadata": {},
   "source": [
    "### 4.d Model Training\n",
    "\n",
    "The next step is to train the actual model. The code below sets some preliminary configurations."
   ]
  },
  {
   "cell_type": "code",
   "execution_count": 49,
   "id": "a118eb57",
   "metadata": {},
   "outputs": [],
   "source": [
    "# Configurations\n",
    "lr = 0.001\n",
    "epochs = 1000\n",
    "gamma = 2\n",
    "\n",
    "model = TARnetICFR(x.shape[1], 0.01, hidden_dim = 32*4).to(device)\n",
    "\n",
    "# Define the loss functions\n",
    "head_loss = nn.L1Loss() #nn.MSELoss()#nn.L1Loss() #torch.nn.HuberLoss(reduction = 'mean', delta = 1) #nn.MSELoss() # nn.L1Loss() #nn.MSELoss() \n",
    "\n",
    "# initialise optimiser\n",
    "optimizer = optim.Adam(model.parameters(), lr)\n",
    "\n",
    "u = len(y_t)  / (len(y_t)  + len(y_c))"
   ]
  },
  {
   "cell_type": "markdown",
   "id": "47eb592f",
   "metadata": {},
   "source": [
    "The code below is the training loop. On each loop, the model passes the data through the models, examines its performance and adjust the weights. Note that this model has four loss components:\n",
    "\n",
    "1. Component 1 (``loss1``) is to loss on the treated segment of the data.\n",
    "2. Component 2 (``loss2``) is to loss on the control segment of the data.\n",
    "3. Component 2 (``loss_cf_3``) is to loss on the counterfactual control segment of the data.\n",
    "4. Component 2 (``loss_cf_4``) is to loss on the counterfactual treated segment of the data."
   ]
  },
  {
   "cell_type": "code",
   "execution_count": 50,
   "id": "aba813bb",
   "metadata": {
    "scrolled": false
   },
   "outputs": [
    {
     "name": "stdout",
     "output_type": "stream",
     "text": [
      "Epoch 100/1000 | Loss: 4.9059\n",
      "RMSE for factual treated 2.4556880850799496\n",
      "MAE for factual treated 1.076961524784565\n",
      "RMSE for factual control 4.546857792974972\n",
      "MAE for factual treated 1.407346953802249\n",
      "Epoch 200/1000 | Loss: 3.1808\n",
      "RMSE for factual treated 2.4541722906661105\n",
      "MAE for factual treated 1.0532452549992337\n",
      "RMSE for factual control 3.439624502539583\n",
      "MAE for factual treated 1.1897078397519447\n",
      "Epoch 300/1000 | Loss: 2.6665\n",
      "RMSE for factual treated 1.6917782159230237\n",
      "MAE for factual treated 1.0058487862417544\n",
      "RMSE for factual control 3.1996473391599407\n",
      "MAE for factual treated 1.1304616507361918\n",
      "Epoch 400/1000 | Loss: 2.2633\n",
      "RMSE for factual treated 2.6614276822424845\n",
      "MAE for factual treated 1.1370430257585313\n",
      "RMSE for factual control 4.4195228674800635\n",
      "MAE for factual treated 1.3824362798648722\n",
      "Epoch 500/1000 | Loss: 1.9015\n",
      "RMSE for factual treated 1.6834671989122023\n",
      "MAE for factual treated 0.9007598467999034\n",
      "RMSE for factual control 4.709940221675673\n",
      "MAE for factual treated 1.4101537172408665\n",
      "Epoch 600/1000 | Loss: 1.6583\n",
      "RMSE for factual treated 2.136780846938601\n",
      "MAE for factual treated 1.0160667275389035\n",
      "RMSE for factual control 4.551302716543544\n",
      "MAE for factual treated 1.3963255895411266\n",
      "Epoch 700/1000 | Loss: 1.3266\n",
      "RMSE for factual treated 2.316639101434118\n",
      "MAE for factual treated 1.0736986492519025\n",
      "RMSE for factual control 4.861370760771656\n",
      "MAE for factual treated 1.4189100703772377\n",
      "Epoch 800/1000 | Loss: 1.2702\n",
      "RMSE for factual treated 1.7343323532357855\n",
      "MAE for factual treated 0.8757738636599647\n",
      "RMSE for factual control 4.6525608615667675\n",
      "MAE for factual treated 1.361167951980058\n",
      "Epoch 900/1000 | Loss: 1.4326\n",
      "RMSE for factual treated 1.9195988119674199\n",
      "MAE for factual treated 0.941629762450854\n",
      "RMSE for factual control 4.4750186182123874\n",
      "MAE for factual treated 1.2581471621113665\n",
      "Epoch 1000/1000 | Loss: 1.0977\n",
      "RMSE for factual treated 1.415920659841346\n",
      "MAE for factual treated 0.7908801717890633\n",
      "RMSE for factual control 5.580629963287464\n",
      "MAE for factual treated 1.4752930034609402\n"
     ]
    }
   ],
   "source": [
    "# Define loss lists\n",
    "loss1_lst, loss2_lst, loss3_lst = [], [], []\n",
    "\n",
    "for epoch in range(epochs):\n",
    "    # Forward pass\n",
    "    output_t, output_c, _ = model(x)\n",
    "    \n",
    "    # Compute total loss and update the model's parameters\n",
    "    loss1, loss2 = head_loss(torch.squeeze(output_t), y_t), head_loss(torch.squeeze(output_c), y_c)\n",
    "    \n",
    "    pred_c_cf = model.forward_treated(x[x[:,-1]==0])\n",
    "    loss_cf_3 = (1 - u) * torch.mean((torch.squeeze(pred_c_cf) - (y_c + tau_est))**2)\n",
    "                 \n",
    "    pred_t_cf = model.forward_control(x[x[:,-1]==1])\n",
    "    loss_cf_4 = u * torch.mean((torch.squeeze(pred_t_cf) - (y_t - tau_est))**2)\n",
    "    \n",
    "    # losses added\n",
    "    loss = loss1 + (loss2) + loss_cf_3 + loss_cf_4 #+ (gamma * loss3)\n",
    "    # Backward pass and optimization\n",
    "    optimizer.zero_grad()\n",
    "    loss.backward()\n",
    "    optimizer.step()\n",
    "\n",
    "    # Print the loss every 10000 epochs\n",
    "    if (epoch + 1) % 100 == 0:\n",
    "        print(f'Epoch {epoch+1}/{epochs} | Loss: {loss.item():.4f}')\n",
    "        \n",
    "        # print intermediate results on test\n",
    "        x_test_t = x_test[x_test[:,-1]==1] \n",
    "        x_test_c = x_test[x_test[:,-1]==0] \n",
    "\n",
    "        # # examine intermediate factual test performance\n",
    "        y_t_pred = model.forward_treated(x_test_t).cpu().detach().numpy().reshape(len(x_test_t),)\n",
    "        y_c_pred = model.forward_control(x_test_c).cpu().detach().numpy().reshape(len(x_test_c),)\n",
    "\n",
    "        print(f\"RMSE for factual treated {mean_squared_error(y_t_pred, y_test_t)}\") \n",
    "        print(f\"MAE for factual treated {mean_absolute_error(y_t_pred, y_test_t)}\") \n",
    "        print(f\"RMSE for factual control {mean_squared_error(y_c_pred, y_test_c)}\") \n",
    "        print(f\"MAE for factual treated {mean_absolute_error(y_c_pred, y_test_c)}\") "
   ]
  },
  {
   "cell_type": "markdown",
   "id": "059d18d9",
   "metadata": {},
   "source": [
    "### 4.e Model Evaluation\n",
    "Having trained the model, we can no examine the performance on the test set. We first get the predictions for the treated and control groups. Then we visualise the predicted predicted vs. true values. "
   ]
  },
  {
   "cell_type": "code",
   "execution_count": 51,
   "id": "5eb28295",
   "metadata": {},
   "outputs": [
    {
     "data": {
      "image/png": "[encoded data removed]",
      "text/plain": [
       "<Figure size 864x432 with 1 Axes>"
      ]
     },
     "metadata": {},
     "output_type": "display_data"
    }
   ],
   "source": [
    "y_t_pred = model.forward_treated(x_test[x_test[:,-1]==1] ).cpu().detach().numpy()\n",
    "y_c_pred = model.forward_control(x_test[x_test[:,-1]==0] ).cpu().detach().numpy()\n",
    "\n",
    "machine = \"TARNet\"\n",
    "visualise(np.squeeze(y_t_pred), np.squeeze(y_c_pred), y_test_t, y_test_c, machine=machine, target=OUTCOME, intervention=TREATMENT)"
   ]
  },
  {
   "cell_type": "markdown",
   "id": "3a79aa5a",
   "metadata": {},
   "source": [
    "Next, we want to estimate the model's predictions of the individual treatment effect. We plot this in an ordered fashion (from most beneficial to least beneficial). The blue dots depict patients. On the y-axis, we find the effect size as predicted by the model. "
   ]
  },
  {
   "cell_type": "code",
   "execution_count": 52,
   "id": "17d7e756",
   "metadata": {
    "scrolled": false
   },
   "outputs": [
    {
     "name": "stdout",
     "output_type": "stream",
     "text": [
      "ATE_est = 2.6004273891448975 - 4.862853527069092 = -2.2624263763427734.\n"
     ]
    },
    {
     "data": {
      "image/png": "[encoded data removed]",
      "text/plain": [
       "<Figure size 864x432 with 1 Axes>"
      ]
     },
     "metadata": {},
     "output_type": "display_data"
    }
   ],
   "source": [
    "# isolate and disconnect predicted values\n",
    "y_c_predt1 = model.forward_treated(x_test_c).cpu().detach().numpy()\n",
    "y_t_predt1 = model.forward_treated(x_test_t).cpu().detach().numpy()\n",
    "y_t_pred = np.concatenate((y_c_predt1, y_t_predt1))\n",
    "\n",
    "# isolate and disconnect predicted values\n",
    "y_c_predt0 = model.forward_control(x_test_c).cpu().detach().numpy() #np.array(y_test_c).reshape(-1,1) #model.forward_control(x_test_c).cpu().detach().numpy()\n",
    "y_t_predt0 = model.forward_control(x_test_t).cpu().detach().numpy()\n",
    "\n",
    "y_c_pred = np.concatenate((y_c_predt0, y_t_predt0))\n",
    "\n",
    "# compute the ites and sort\n",
    "ites = y_t_pred - y_c_pred\n",
    "ites = [i[0] for i in ites]\n",
    "ites = sorted(list(ites))\n",
    "\n",
    "ate_model_est = np.mean(y_t_pred - y_c_pred)\n",
    "\n",
    "print(f\"ATE_est = {np.mean(y_t_pred)} - {np.mean(y_c_pred)} = {ate_model_est}.\")\n",
    "\n",
    "visualise_ites(np.array(ites), machine = machine, intervention = TREATMENT, target = OUTCOME)"
   ]
  },
  {
   "cell_type": "markdown",
   "id": "a388ee60",
   "metadata": {},
   "source": [
    "### 4.e Variable Importances"
   ]
  },
  {
   "cell_type": "code",
   "execution_count": null,
   "id": "a8cde8d1",
   "metadata": {
    "scrolled": true
   },
   "outputs": [],
   "source": [
    "np.random.seed(42)\n",
    "\n",
    "# Calculate the baseline performance\n",
    "model.eval()  # Set the model to evaluation mode\n",
    "with torch.no_grad():  # Ensure no gradients are computed\n",
    "    output_t, output_c, _ = model(x)\n",
    "baseline_performance = mean_squared_error(output_t, y_t)\n",
    "print(baseline_performance)\n",
    "\n",
    "# Initialize a list to hold the feature importances\n",
    "feature_importances = []\n",
    "icodes = []\n",
    "meanings = []\n",
    "rank = []\n",
    "\n",
    "collist = X_train.columns\n",
    "\n",
    "# Calculate the importance for each feature\n",
    "for i in range(x.shape[1]):  # Iterate over each feature\n",
    "    # Save the original feature\n",
    "    original_feature = x[:, i].clone()\n",
    "    # Permute the feature\n",
    "    permuted_feature = original_feature[torch.randperm(original_feature.size(0))]\n",
    "    x[:, i] = permuted_feature\n",
    "    \n",
    "    # Calculate performance with the permuted data\n",
    "    with torch.no_grad():\n",
    "        output_t, output_c, _ = model(x)\n",
    "        \n",
    "    permuted_performance_t = mean_squared_error(output_t, y_t)\n",
    "    permuted_performance_c = mean_squared_error(output_c, y_c)\n",
    "    \n",
    "    permuted_performance = permuted_performance_t + permuted_performance_t\n",
    "    \n",
    "    # Calculate the importance as the change in performance\n",
    "    importance = baseline_performance - permuted_performance\n",
    "    feature_importances.append(importance)\n",
    "    \n",
    "    # Restore the original feature\n",
    "    x[:, i] = original_feature\n",
    "    \n",
    "# Rank the features by their importance\n",
    "sorted_features = np.argsort(feature_importances)[::-1]  # Indices of features, sorted by importance\n",
    "\n",
    "# Print the feature importances\n",
    "print(\"Feature importances:\")\n",
    "for i, feature_index in enumerate(sorted_features):\n",
    "    #print(f\"Feature {feature_index}: Importance {feature_importances[feature_index]}\")\n",
    "    icode = collist[feature_index]\n",
    "    icodes.append(icode.lower())\n",
    "    \n",
    "    try:\n",
    "        item = encoding[icode.lower()]\n",
    "        #print(item)\n",
    "        meanings.append(item)\n",
    "    except KeyError:\n",
    "        #print(f'{icode} not found')\n",
    "        meanings.append(f'{icode} not found')\n",
    "    #print(\"==================================================\")\n",
    "    \n",
    "rankings = pd.DataFrame(icodes, columns = ['icodes'])\n",
    "rankings['meanings'] = meanings\n",
    "rankings['importance_values'] = feature_importances\n",
    "\n",
    "rankings = rankings.sort_values(by = 'importance_values')\n",
    "rankings = rankings.reset_index().drop(columns = 'index')\n",
    "rankings"
   ]
  },
  {
   "cell_type": "markdown",
   "id": "ed2a4c7b",
   "metadata": {},
   "source": [
    "## Appendix "
   ]
  },
  {
   "cell_type": "code",
   "execution_count": null,
   "id": "2437e5af",
   "metadata": {},
   "outputs": [],
   "source": [
    "# import numpy as np\n",
    "# from scipy import stats\n",
    "\n",
    "\n",
    "# ate = float(np.array(tau_est))\n",
    "\n",
    "# # Assuming you have calculated the standard error of the ATE (SE_ATE)\n",
    "# se_ate = np.std(ites)#2.0  # Replace with the actual standard error\n",
    "\n",
    "# # Set your significance level (alpha)\n",
    "# alpha = 0.05\n",
    "\n",
    "# # Calculate the test statistic\n",
    "# test_statistic = ate / se_ate\n",
    "\n",
    "# # Calculate the p-value for a two-tailed test\n",
    "# p_value = 2 * (1 - stats.norm.cdf(abs(test_statistic)))\n",
    "\n",
    "# # Print the results\n",
    "# print(\"ATE:\", ate)\n",
    "# print(\"Standard Error (SE_ATE):\", se_ate)\n",
    "# print(\"Test Statistic:\", test_statistic)\n",
    "# print(\"P-Value:\", p_value)\n",
    "\n",
    "# # Make a decision based on the p-value\n",
    "# if p_value < alpha:\n",
    "#     print(\"Reject the null hypothesis. There is a statistically significant causal effect.\")\n",
    "# else:\n",
    "#     print(\"Fail to reject the null hypothesis. There is not enough evidence of a significant causal effect.\")\n"
   ]
  },
  {
   "cell_type": "code",
   "execution_count": null,
   "id": "719847ba",
   "metadata": {},
   "outputs": [],
   "source": [
    "# x_train_t = x[x[:,-1]==1] \n",
    "# x_train_c = x[x[:,-1]==0]\n",
    "# # isolate and disconnect predicted values\n",
    "# y_c_predt1 = model.forward_treated(x_train_c).cpu().detach().numpy()\n",
    "# y_t_predt1 = model.forward_treated(x_train_t).cpu().detach().numpy()\n",
    "# y_t_pred = np.concatenate((y_c_predt1, y_t_predt1))\n",
    "\n",
    "# # isolate and disconnect predicted values\n",
    "# y_c_predt0 = model.forward_control(x_train_c).cpu().detach().numpy()\n",
    "# y_t_predt0 = model.forward_control(x_train_t).cpu().detach().numpy()\n",
    "\n",
    "# y_c_pred = np.concatenate((y_c_predt0, y_t_predt0))\n",
    "\n",
    "# # compute the ites and sort\n",
    "# ites = y_t_pred - y_c_pred\n",
    "# ites = [i[0] for i in ites]\n",
    "# ites = sorted(list(ites))\n",
    "\n",
    "# ate_model_est = np.mean(y_t_pred - y_c_pred)\n",
    "\n",
    "# print(f\"ATE_est = {np.mean(y_t_pred)} - {np.mean(y_c_pred)} = {ate_model_est}.\")\n",
    "\n",
    "# visualise_ites(np.array(ites), machine = machine, intervention = TREATMENT, target = OUTCOME)"
   ]
  },
  {
   "cell_type": "code",
   "execution_count": null,
   "id": "69aabff0",
   "metadata": {},
   "outputs": [],
   "source": [
    "# model_lst = [(RandomForestRegressor(),RandomForestRegressor()), (MLPRegressor(), MLPRegressor()), \n",
    "#             (GradientBoostingRegressor(), GradientBoostingRegressor()), (DecisionTreeRegressor(), DecisionTreeRegressor()),\n",
    "#             (LinearRegression(), LinearRegression()), (Ridge(), Ridge()), (Lasso(), Lasso()),\n",
    "#             (AdaBoostRegressor(), AdaBoostRegressor()), (ExtraTreesRegressor(), ExtraTreesRegressor()), \n",
    "#              (BaggingRegressor(), BaggingRegressor())]\n",
    "\n",
    "# for model1, model2 in model_lst:\n",
    "#     print(str(model1))\n",
    "#     metrics, predictions_t, predictions_c, y_test_t, y_test_c, ites_test, ites_train, X_test_t, X_test_c = run_model(file = FILE, include_propensity = PROPENSITY, undersampled = UNDERSAMPLE, model0 = model0, model1 = model1, machine = str(model1), num_iter = 1)\n",
    "#     #visualise(predictions_t, predictions_c, y_test_t, y_test_c, machine=machine, target=target, intervention=intervention)\n",
    "#     visualise_ites(ites_test, machine = str(model1), intervention = TREATMENT, target = OUTCOME)\n",
    "#     print(metrics)"
   ]
  },
  {
   "cell_type": "code",
   "execution_count": null,
   "id": "78360422",
   "metadata": {},
   "outputs": [],
   "source": []
  }
 ],
 "metadata": {
  "kernelspec": {
   "display_name": "Python 3 (ipykernel)",
   "language": "python",
   "name": "python3"
  },
  "language_info": {
   "codemirror_mode": {
    "name": "ipython",
    "version": 3
   },
   "file_extension": ".py",
   "mimetype": "text/x-python",
   "name": "python",
   "nbconvert_exporter": "python",
   "pygments_lexer": "ipython3",
   "version": "3.9.7"
  }
 },
 "nbformat": 4,
 "nbformat_minor": 5
}
