{
 "cells": [
  {
   "cell_type": "markdown",
   "id": "022a2832",
   "metadata": {},
   "source": [
    "# Causal Machine Learning for Treatment Effect Estimation"
   ]
  },
  {
   "cell_type": "code",
   "execution_count": 1,
   "id": "6d9749f9",
   "metadata": {},
   "outputs": [],
   "source": [
    "# import necessary libraries\n",
    "import pandas as pd\n",
    "import numpy as np\n",
    "import seaborn as sns\n",
    "import matplotlib.pyplot as plt\n",
    "\n",
    "#from sklearn.impute import KNNImputer\n",
    "from sklearn.model_selection import train_test_split, cross_val_score\n",
    "from sklearn.metrics import mean_squared_error, mean_absolute_error, r2_score\n",
    "from sklearn.cluster import KMeans\n",
    "from sklearn.impute import KNNImputer\n",
    "\n",
    "from sklearn.linear_model import Lasso\n",
    "from sklearn.preprocessing import StandardScaler\n",
    "\n",
    "# get standard models\n",
    "from sklearn.linear_model import LogisticRegression\n",
    "from sklearn.linear_model import LinearRegression\n",
    "from sklearn.linear_model import Ridge\n",
    "from sklearn.linear_model import Lasso\n",
    "from sklearn.tree import DecisionTreeRegressor\n",
    "from sklearn.ensemble import RandomForestRegressor\n",
    "from sklearn.ensemble import GradientBoostingRegressor\n",
    "from sklearn.ensemble import AdaBoostRegressor\n",
    "from sklearn.ensemble import ExtraTreesRegressor\n",
    "from sklearn.ensemble import BaggingRegressor\n",
    "from sklearn.ensemble import VotingRegressor\n",
    "from sklearn.ensemble import RandomForestClassifier\n",
    "from sklearn.neural_network import MLPRegressor\n",
    "\n",
    "from sources.doubly_robust import doubly_robust\n",
    "from sources.models.TARNet import TARnetICFR\n",
    "\n",
    "import torch\n",
    "import torch.nn as nn\n",
    "import torch.optim as optim\n",
    "\n",
    "from auxiliary import data_processing, doubly_robust, visualise, visualise_ites, impute_missing_values_knn, run_model, undersample, full_contra_indications_tracker, value_based_contra_indications_tracker, period_decomposition, multicol\n",
    "from icodes import encoding\n",
    "\n",
    "# from datetime import timedelta\n",
    "import warnings \n",
    "warnings.filterwarnings('ignore')"
   ]
  },
  {
   "cell_type": "markdown",
   "id": "cf6bccc9",
   "metadata": {},
   "source": [
    "## 1. Introduction\n",
    "\n",
    "The purpose of this notebook is to provide and end-to-end description of the treatment effect estimation process. This notebook consists of three parts:\n",
    "\n",
    "1. **Data processing**: The first part is the data processing part. Here we basically prepare the data for the ML models.\n",
    "2. **Causal ML Models**: The second part of the notebook consists of a series of causal ML learning models. In particular, we use the causal meta-learning framework. \n",
    "3. **Adadptive Model**: The third part of the notebook is also a machine learning model. However, contrary to the models before, this one was developed by the VU team and allows for more control over the estimation proces. \n",
    "\n",
    "Please find below an overview of the steps we will go through. Note that the boxes do not correspond one-to-one to sections in the notebook, but the general flow is the same. "
   ]
  },
  {
   "cell_type": "markdown",
   "id": "32f80659",
   "metadata": {},
   "source": [
    "![alt text](ModellingOverview.jpg)"
   ]
  },
  {
   "cell_type": "markdown",
   "id": "c3702ec1",
   "metadata": {},
   "source": [
    "## 1.a. Preliminaries \\& Design Choices\n",
    "\n",
    "We first want to get some preliminaries out of the way. In particular, we would like to make some specific **design choices** explicit. Below, we can set the following parameters, thereby modifying specific choices:\n",
    "\n",
    "- ``EXPOSURE_THRESHOLD``: The treatment is binary. However, how much treatment is provided can be changed with this variable. In essence, it determines the cut-off value. For instance, we can set it to 60 minutes in the case of physical therapy (in mins.). Then, patients with more then 60 minutes of PT will be assigned T=1, those below will be T=0.\n",
    "- ``PERIOD_MIN``: Minimal time period between baseline measurement and followup measurement. N.B. If this is set too low, the effect may not yet register. Too high and the effect may have faded out. \n",
    "- ``PERIOD_MAX``: Maximal time period between baseline measurement and followup measurement. N.B. If this is set too low, effect may not yet register. Too high and the effect may have faded out.  \n",
    "- ``REMOVE_MULTI_COL``: Whether or not to remove multicollinear columns. \n",
    "- ``CORRELATION_THRESHOLD``: Threshold for removing collinear columns. \n",
    "- ``UNDERSAMPLE``: Some models perform better when undersampling the minority class. For instance, if there are 1000 cases of patients with PT (T=0) and only 150 with PT (T=1), setting this to ``True`` ensures that 150 patients are sampled from PT (T=0), resulting in 300 observations in total.\n",
    "- ``IMPUTE``: Whether or not to impute missing *covariate* values.\n",
    "- ``PROPENSITY``: Whether or not to add a propensity score to the model.\n",
    "- ``CLEAN_COMPARE``: By default (when this is set to ``False``), the data processing script assigns any observations below ``EXPOSURE_THRESHOLD`` to the control group and  any observation above ``EXPOSURE_THRESHOLD`` to treated. Setting this parameter to ``True`` creates a scenario where *only* observation that did not get any treatment are assigned to the control group. For instance, in the case of PT, we would have a control group of patients getting only 0 mins. of PT and a treated group of patients with, say, more than 60 mins. of PT.\n",
    "- ``TREATMENT``: Name of the treatment variable.\n",
    "- ``TARGET``: Name of the target variable."
   ]
  },
  {
   "cell_type": "code",
   "execution_count": 2,
   "id": "90862091",
   "metadata": {},
   "outputs": [],
   "source": [
    "# set seed\n",
    "np.random.seed(42)\n",
    "\n",
    "# set the exposure threshold for binary dichtomization. In the case of PT, 60 minutes of PT at least. \n",
    "EXPOSURE_THRESHOLD = 45#30\n",
    "\n",
    "# set the period between observations. We only consider the effects between 120 and 240 days after exposure. \n",
    "PERIOD_MIN = 30 # /MAYBE CHECK WITH 60? \n",
    "PERIOD_MAX = 90\n",
    "\n",
    "# if we want to move multicollinear columns, set to True\n",
    "REMOVE_MULTI_COL = True\n",
    "\n",
    "# set the threshold for multicollinearity drops \n",
    "CORRELATION_THRESHOLD = 0.6\n",
    "\n",
    "# set to True if we want to undersample\n",
    "UNDERSAMPLE = True #False #True\n",
    "\n",
    "# set to True if we want to impute missing values\n",
    "IMPUTE = True\n",
    "\n",
    "PROPENSITY = True\n",
    "\n",
    "# clean compare (to be used if only > threshold AND treatment = 0)\n",
    "CLEAN_COMPARE = True\n",
    "\n",
    "TREATMENT = 'in3eb' # (minutes or days of physical therapy)\n",
    "OUTCOME = 'sADLSF' "
   ]
  },
  {
   "cell_type": "markdown",
   "id": "a78760c4",
   "metadata": {},
   "source": [
    "Having set the desired parameters, we will now read in the data."
   ]
  },
  {
   "cell_type": "code",
   "execution_count": 3,
   "id": "d77ac00e",
   "metadata": {},
   "outputs": [
    {
     "name": "stdout",
     "output_type": "stream",
     "text": [
      "Treatment before processing 3462\n"
     ]
    }
   ],
   "source": [
    "file = \"data/dutch_LTCF_all.csv\"\n",
    "\n",
    "# read data\n",
    "df = pd.read_csv(file)\n",
    "print(f\"Treatment before processing {len(df[df[TREATMENT]>EXPOSURE_THRESHOLD])}\")"
   ]
  },
  {
   "cell_type": "code",
   "execution_count": 4,
   "id": "62b4adf7",
   "metadata": {},
   "outputs": [
    {
     "data": {
      "text/plain": [
       "<AxesSubplot:xlabel='sADLSF', ylabel='Density'>"
      ]
     },
     "execution_count": 4,
     "metadata": {},
     "output_type": "execute_result"
    },
    {
     "data": {
      "image/png": "[encoded data removed]",
      "text/plain": [
       "<Figure size 432x288 with 1 Axes>"
      ]
     },
     "metadata": {
      "needs_background": "light"
     },
     "output_type": "display_data"
    }
   ],
   "source": [
    "sns.distplot(df[OUTCOME])"
   ]
  },
  {
   "cell_type": "code",
   "execution_count": 5,
   "id": "bbb12e0b",
   "metadata": {},
   "outputs": [],
   "source": [
    "import pandas as pd\n",
    "\n",
    "def csv_to_dict(file_path):\n",
    "    \"\"\"\n",
    "    Reads a CSV file and converts it to a Python dictionary.\n",
    "    The first column of the CSV is assumed to be the keys and the second column the values.\n",
    "\n",
    "    :param file_path: Path to the CSV file\n",
    "    :return: Dictionary with keys and values from the CSV file\n",
    "    \"\"\"\n",
    "    data = pd.read_csv(file_path)\n",
    "    return pd.Series(data.iloc[:, 1].values, index=data.iloc[:, 0]).to_dict()\n",
    "\n",
    "# File path\n",
    "file_path = 'variable_encodings.csv'\n",
    "\n",
    "# Using the function to convert the file to a dictionary\n",
    "code_meaning_dict = csv_to_dict(file_path)"
   ]
  },
  {
   "cell_type": "code",
   "execution_count": 6,
   "id": "5174e3ed",
   "metadata": {},
   "outputs": [],
   "source": [
    "# get all vars that are actually in the data\n",
    "all_vars = []\n",
    "\n",
    "for key in code_meaning_dict.keys():\n",
    "    try:\n",
    "        df[key]\n",
    "        all_vars.append(key)\n",
    "    except:\n",
    "        pass    "
   ]
  },
  {
   "cell_type": "markdown",
   "id": "2f5c38f8",
   "metadata": {},
   "source": [
    "## Part 2. Data Processing\n",
    "\n",
    "In this first part, we will carry out the data processsing. In particular, we would like to select the relevant covariates, make a pre-selection based on patient characteristics (e.g. whether or not contra-indications are present), select the relevant period of observation, impute missing *coviariate* values and, lastly, handle any multi-collinearity. "
   ]
  },
  {
   "cell_type": "markdown",
   "id": "2dbdc92a",
   "metadata": {},
   "source": [
    "Next, we define the lists of covariates, clinical indications and contra-indications"
   ]
  },
  {
   "cell_type": "code",
   "execution_count": 7,
   "id": "f9cbbfe6",
   "metadata": {},
   "outputs": [],
   "source": [
    "# clinical_indications = [\n",
    "#     \"sABS\", \"ic4\", \"ij2g\",\n",
    "#     \"ij2h\", \"ij2i\", \"if7a\", \"if7b\", \"if7c\", \"if1d\", \"ie1i\", \"ie1j\", \"ij2o\", \"if4\",\n",
    "#     \"ij6c\", \"sRISE\", 'cADD'\n",
    "# ]\n",
    "\n",
    "# confounders = ['sPAIN', 'ij3', 'ij4', 'ij8b', 'ig6a']\n",
    "\n",
    "# value_based_contra_indications = {'ic1': [5], 'sCPS': [5,6], 'sDRS': [10, 11, 12, 13, 14, 15]}\n",
    "# other_relevant_covars = ['iA2', 'sAGE_cat']\n",
    "# contra_indications = []\n",
    "\n",
    "# # list of other relevant variables\n",
    "# relevant_vars = ['iA9', 'Clientid', TREATMENT, OUTCOME]"
   ]
  },
  {
   "cell_type": "code",
   "execution_count": 8,
   "id": "5b627ead",
   "metadata": {},
   "outputs": [
    {
     "name": "stdout",
     "output_type": "stream",
     "text": [
      "10\n"
     ]
    }
   ],
   "source": [
    "contra_indications = ['ij2e', 'ij2l', 'ij2n', 'ij2t', 'ij2q', 'ij2r', 'ij6b', 'ij6c',  'in6b', 'in6c'] \n",
    "\n",
    "#BIGGER THAN\n",
    "value_based_contra_indications = {'sCPS': [4, 5], 'in2a': [2,3],\n",
    "                                 'in2c': [2,3], 'in2e': [2,3], 'in2f': [2,3],\n",
    "                                 'in2g': [2,3], 'in2h':[2,3], 'in2i':[2,3],\n",
    "                                 'in2j':[2,3]} \n",
    "\n",
    "# also convert values to list for ease of processing later on\n",
    "#listed_val_based_ind = [key for key, value in value_based_contra_indications.items()]\n",
    "\n",
    "contra_indications = contra_indications #+ listed_val_based_ind\n",
    "\n",
    "# list relevant confounders\n",
    "confounders = ['ik3',  'id4a', 'ie3e', 'ih1', \n",
    "                        'ih3', 'ih5', 'ij6a',  \n",
    "                        'il7', 'il1',  'sCPS']\n",
    "\n",
    "# list covars that may be relevant but have not been listed elsewhere\n",
    "other_relevant_covars = ['iA2', 'sAGE_cat']#, 'ia12a', 'ia13', 'ib5a', 'ib5b', 'ib5c', 'ic1', 'ic2c']\n",
    "\n",
    "# list clinical indications\n",
    "clinical_indications = ['sDRS', 'ij1', 'ij12', 'ij2a', 'ij2b', 'ij2c', 'ij2d']\n",
    "\n",
    "# list of other relevant variables\n",
    "relevant_vars = ['iA9', 'Clientid', TREATMENT, OUTCOME]\n",
    "\n",
    "print(len(contra_indications))"
   ]
  },
  {
   "cell_type": "code",
   "execution_count": 9,
   "id": "f3d897fd",
   "metadata": {},
   "outputs": [],
   "source": [
    "#df['scommun']"
   ]
  },
  {
   "cell_type": "code",
   "execution_count": 10,
   "id": "7e06cd29",
   "metadata": {},
   "outputs": [
    {
     "name": "stdout",
     "output_type": "stream",
     "text": [
      "Cognitive Skills for Daily Decision Making\n"
     ]
    }
   ],
   "source": [
    "print(encoding[('ic1').lower()])"
   ]
  },
  {
   "cell_type": "markdown",
   "id": "da0f77f4",
   "metadata": {},
   "source": [
    "### 2a. Contra-indications\n",
    "\n",
    "Next, the first thing we want to do is to drop patients that have a contra-indication for the treatment in questions. In the code below, we specify the contra-indications. "
   ]
  },
  {
   "cell_type": "code",
   "execution_count": 11,
   "id": "bf166fd4",
   "metadata": {},
   "outputs": [],
   "source": [
    "contras = lambda x: 1 if x >=1 else 0\n",
    "\n",
    "# create indications column and set to 0\n",
    "df['indications'] = 0\n",
    "\n",
    "# loop over all contra-indications\n",
    "for contra in contra_indications:\n",
    "    # assign 1 to cases with contra-indication\n",
    "    df['indications'] = df[contra].apply(contras)\n",
    "    # drop cases\n",
    "    df = df[df['indications']!= 1]"
   ]
  },
  {
   "cell_type": "markdown",
   "id": "1de53fd0",
   "metadata": {},
   "source": [
    "Finally, for some contra-indications we want to exclude based on particular values only. We can do this by running the script below. "
   ]
  },
  {
   "cell_type": "code",
   "execution_count": 12,
   "id": "411f9b2a",
   "metadata": {},
   "outputs": [
    {
     "name": "stdout",
     "output_type": "stream",
     "text": [
      "4-valued items from sCPS Cognitive Performance Scale 0-6 range-Morris 1991 droped.\n",
      "5-valued items from sCPS Cognitive Performance Scale 0-6 range-Morris 1991 droped.\n",
      "2-valued items from Past 3 days: Chemotherapy droped.\n",
      "3-valued items from Past 3 days: Chemotherapy droped.\n",
      "2-valued items from Past 3 days: Infection control segregation droped.\n",
      "3-valued items from Past 3 days: Infection control segregation droped.\n",
      "2-valued items from Past 3 days:Oxygen therapy droped.\n",
      "3-valued items from Past 3 days:Oxygen therapy droped.\n",
      "2-valued items from Past 3 days: Radiation droped.\n",
      "3-valued items from Past 3 days: Radiation droped.\n",
      "2-valued items from Past 3 days: Suctioning droped.\n",
      "3-valued items from Past 3 days: Suctioning droped.\n",
      "2-valued items from Past 3 days: Tracheostomy care droped.\n",
      "3-valued items from Past 3 days: Tracheostomy care droped.\n",
      "2-valued items from Past 3 days:  Transfusion droped.\n",
      "3-valued items from Past 3 days:  Transfusion droped.\n",
      "2-valued items from Past 3 days: Ventilator droped.\n",
      "3-valued items from Past 3 days: Ventilator droped.\n"
     ]
    }
   ],
   "source": [
    "# initialize empty tracker\n",
    "# iterate over columns and corresponding values \n",
    "for key, value in value_based_contra_indications.items():    \n",
    "    # loop over items in list\n",
    "    for i in value:\n",
    "        # drop values\n",
    "        df = df[df[key]!=i]\n",
    "        print(f'{i}-valued items from {encoding[key.lower()]} droped.')"
   ]
  },
  {
   "cell_type": "markdown",
   "id": "4137c386",
   "metadata": {},
   "source": [
    "Having processed the contra-indications, we can now select the necessary columns in the data."
   ]
  },
  {
   "cell_type": "code",
   "execution_count": 13,
   "id": "be681646",
   "metadata": {},
   "outputs": [],
   "source": [
    "all_vars = [i for i in all_vars if i not in clinical_indications+confounders + other_relevant_covars + relevant_vars + contra_indications]"
   ]
  },
  {
   "cell_type": "code",
   "execution_count": 14,
   "id": "586b484e",
   "metadata": {},
   "outputs": [
    {
     "name": "stdout",
     "output_type": "stream",
     "text": [
      "Treatment after selecting covariates 1950\n"
     ]
    }
   ],
   "source": [
    "primary_vars = clinical_indications+confounders + other_relevant_covars + relevant_vars + contra_indications\n",
    "\n",
    "df = df[primary_vars + all_vars]\n",
    "\n",
    "print(f\"Treatment after selecting covariates {len(df[df[TREATMENT]>EXPOSURE_THRESHOLD])}\")"
   ]
  },
  {
   "cell_type": "markdown",
   "id": "aa1cdf9c",
   "metadata": {},
   "source": [
    "### 2.b. Baseline-Followup Selection\n",
    "\n",
    "Important to note here is that in this particular setup, our goal is to **estimate the outcome value at follow up from the covariates *and* outcome variable at baseline**. \n",
    "\n",
    "Below you find a schematic depiction of how we want to process the data. As you can see, there are two timelines:\n",
    "\n",
    "1. **Timeline 1**: Naturally processes from baseline to follow up over time, without any intervention in the meantme.\n",
    "2. **Timeline 2**: Same as before, but with the difference that not an intervention has take place at some point in time between baseline and follow up. "
   ]
  },
  {
   "cell_type": "markdown",
   "id": "3a5c28d1",
   "metadata": {},
   "source": [
    "![alt text](TimelineModels.jpg)"
   ]
  },
  {
   "cell_type": "markdown",
   "id": "76f61916",
   "metadata": {},
   "source": [
    "Our goal is therefore to, *for each observation*, take the values (**pre-treatment** covariates, outcome on baseline $y_{t}$) of baseline, and the  values at follow up (outcome on follow up $y_{t+1}$) and store it in a convenient manner. Important to note is that as patient may have *several* of these baseline-followup recors where sometimes an intervention may have occured and sometimes not. We decided to do this to, again, safe as much data as possible. \n",
    "\n",
    "Let us begin by first counting the number of assesments. We do this, because it is not possible to include patients without followup. "
   ]
  },
  {
   "cell_type": "code",
   "execution_count": 15,
   "id": "6297ed64",
   "metadata": {},
   "outputs": [],
   "source": [
    "# get number of assesments\n",
    "counter = lambda x: len(df[df['Clientid']==x])\n",
    "\n",
    "# count number of items\n",
    "df['num_assesments'] = df['Clientid'].apply(counter)"
   ]
  },
  {
   "cell_type": "markdown",
   "id": "e3d2d9af",
   "metadata": {},
   "source": [
    "Let us select only observations with more than 2 assesments. "
   ]
  },
  {
   "cell_type": "code",
   "execution_count": 16,
   "id": "046a82e0",
   "metadata": {},
   "outputs": [
    {
     "name": "stdout",
     "output_type": "stream",
     "text": [
      "23149 observations remaining.\n",
      "Treatment after selecting on number of assesments 1825\n"
     ]
    }
   ],
   "source": [
    "# get number of assesments higher than 1\n",
    "df = df[df['num_assesments']>=2]\n",
    "\n",
    "print(f'{len(df)} observations remaining.')\n",
    "print(f\"Treatment after selecting on number of assesments {len(df[df[TREATMENT]>EXPOSURE_THRESHOLD])}\")"
   ]
  },
  {
   "cell_type": "markdown",
   "id": "72f30a38",
   "metadata": {},
   "source": [
    "In the code below, we want to process the data a bit further. First, we want to make sure that the date columns (``iA9``) is in the correct format. Then we want to order based on ID and date. Also, we want to drop missing dates (if there are any) and drop any duplicated observations. Lastly, we want to make sure that the outcome is in the right format (i.e. a ``float``)."
   ]
  },
  {
   "cell_type": "code",
   "execution_count": 17,
   "id": "69f4be75",
   "metadata": {},
   "outputs": [],
   "source": [
    "# convert column to datetime \n",
    "df['iA9'] = pd.to_datetime(df['iA9']) \n",
    "# sort values by ID and date\n",
    "df = df.sort_values(by = ['Clientid', 'iA9'])\n",
    "# drop nans on dates of assesment\n",
    "df = df[df['iA9'].isna()==False]\n",
    "# drop duplicated values\n",
    "df = df.drop_duplicates()\n",
    "df[OUTCOME] = df[OUTCOME].astype(float)"
   ]
  },
  {
   "cell_type": "markdown",
   "id": "43866522",
   "metadata": {},
   "source": [
    "### 2.c Drop Duplicated Values\n",
    "\n",
    "Next, because there may be two assesments on the same date, we also want to drop those (regardless of the reason as inspecting that is beyond the scope of this project notebook). "
   ]
  },
  {
   "cell_type": "code",
   "execution_count": 18,
   "id": "46d2ab96",
   "metadata": {},
   "outputs": [],
   "source": [
    "# Group by 'Clientid' and then apply the duplicate check on 'iA9' within each group\n",
    "duplicated_indices = df.groupby('Clientid').apply(\n",
    "    lambda x: x[x['iA9'].duplicated()].index).explode()\n",
    "\n",
    "# Drop NaN values from the index list if they exist\n",
    "duplicated_indices = duplicated_indices.dropna()\n",
    "\n",
    "# Convert the result into a list if it's not empty\n",
    "if not duplicated_indices.empty:\n",
    "    duplicated_indices = duplicated_indices.tolist()\n",
    "\n",
    "    # Drop the duplicates using the list of indices\n",
    "    df = df.drop(index=duplicated_indices)"
   ]
  },
  {
   "cell_type": "markdown",
   "id": "ac32c7d6",
   "metadata": {},
   "source": [
    "### 2.d. Clean Compare\n",
    "If we want to only compare between those patients that receive either 0 treatment or a treatment above the threshold value, we run this code."
   ]
  },
  {
   "cell_type": "code",
   "execution_count": 19,
   "id": "b68930d7",
   "metadata": {},
   "outputs": [],
   "source": [
    "if CLEAN_COMPARE:\n",
    "    df = df[(df[TREATMENT] <= 0) | (df[TREATMENT] >= EXPOSURE_THRESHOLD)]"
   ]
  },
  {
   "cell_type": "markdown",
   "id": "221ddb34",
   "metadata": {},
   "source": [
    "### 2.e Period Decomposition"
   ]
  },
  {
   "cell_type": "markdown",
   "id": "0f0a67a3",
   "metadata": {},
   "source": [
    "The piece of code (i.e. the function ``period_decomposition``) below is a loop that basically does the following:\n",
    "\n",
    "1. Create a temporary dataframe ``temp_df``. We do this to make sure that there is an empty entity (i.e. data storage) to which we can append new, cleaned and processed observations.\n",
    "2. Then, for each patient we do the following:\n",
    "3. Look at all the observation dates.\n",
    "4. Select the target outcome at follow up and at baseline.\n",
    "5. Append each period to the ``temp_df`` *until running out of dates*. \n",
    "6. Move to the next patient. "
   ]
  },
  {
   "cell_type": "code",
   "execution_count": 20,
   "id": "0e300f07",
   "metadata": {},
   "outputs": [],
   "source": [
    "def period_decomposition(df, target):\n",
    "    # List to store the rows of the new DataFrame\n",
    "    rows = []\n",
    "\n",
    "    # Unique client IDs\n",
    "    client_ids = df['Clientid'].unique()\n",
    "    total = len(client_ids)\n",
    "\n",
    "    for count, client_id in enumerate(client_ids, start=1):\n",
    "        # Inform the user about the progress\n",
    "        if count % 1000 == 0 or count == total:\n",
    "            print(f'{count} of {total} items completed...')\n",
    "\n",
    "        # Extract rows for the current client\n",
    "        client_rows = df[df['Clientid'] == client_id].sort_values('iA9')\n",
    "        client_dates = client_rows['iA9'].tolist()\n",
    "\n",
    "        for i in range(len(client_dates) - 1):\n",
    "            baseline_date = client_dates[i]\n",
    "            followup_date = client_dates[i + 1]\n",
    "\n",
    "            # Extract the rows for baseline and follow-up\n",
    "            baseline_row = client_rows[client_rows['iA9'] == baseline_date]\n",
    "            followup_row = client_rows[client_rows['iA9'] == followup_date]\n",
    "            \n",
    "            # Calculate the outcomes\n",
    "            #print(baseline_row[target])\n",
    "            outcome_t0 = float(baseline_row[target])\n",
    "            outcome_t1 = float(followup_row[target])\n",
    "\n",
    "            # Prepare a new row with all necessary information\n",
    "            new_row = baseline_row.iloc[0].to_dict()\n",
    "            new_row['OutcomeT0'] = outcome_t0\n",
    "            new_row['OutcomeT1'] = outcome_t1\n",
    "            new_row['OutcomeT0Date'] = baseline_date\n",
    "            new_row['OutcomeT1Date'] = followup_date\n",
    "            rows.append(new_row)\n",
    "\n",
    "    # Create a new DataFrame from the list of new rows\n",
    "    temp_df = pd.DataFrame(rows)\n",
    "    print(\"Completed.\")\n",
    "    return temp_df\n"
   ]
  },
  {
   "cell_type": "code",
   "execution_count": 21,
   "id": "4aa46020",
   "metadata": {
    "scrolled": true
   },
   "outputs": [
    {
     "name": "stdout",
     "output_type": "stream",
     "text": [
      "1000 of 4841 items completed...\n",
      "2000 of 4841 items completed...\n",
      "3000 of 4841 items completed...\n",
      "4000 of 4841 items completed...\n",
      "4841 of 4841 items completed...\n",
      "Completed.\n",
      "Treatment after processing 1479\n"
     ]
    }
   ],
   "source": [
    "df = period_decomposition(df, target = OUTCOME)\n",
    "print(f\"Treatment after processing {len(df[df[TREATMENT]>EXPOSURE_THRESHOLD])}\")"
   ]
  },
  {
   "cell_type": "markdown",
   "id": "5d2ffe04",
   "metadata": {},
   "source": [
    "### 2.f Dichotomize Treatment Variable\n",
    "\n",
    "Because our model can only deal with binary treatments, we need to convert the continuous treatments into binary ones. We will do that using a simple fuctions. Recall that the threshold has been set using the ``EXPOSURE_THRESHOLD`` variable above."
   ]
  },
  {
   "cell_type": "code",
   "execution_count": 22,
   "id": "baea95fb",
   "metadata": {},
   "outputs": [],
   "source": [
    "binary = lambda x: 1 if x >= EXPOSURE_THRESHOLD else 0\n",
    "# convert treatment to binary\n",
    "df['treatment'] = df[TREATMENT].apply(binary)  \n",
    "df = df.drop(columns = [TREATMENT])"
   ]
  },
  {
   "cell_type": "code",
   "execution_count": 23,
   "id": "3b5068ac",
   "metadata": {},
   "outputs": [
    {
     "data": {
      "text/html": [
       "<div>\n",
       "<style scoped>\n",
       "    .dataframe tbody tr th:only-of-type {\n",
       "        vertical-align: middle;\n",
       "    }\n",
       "\n",
       "    .dataframe tbody tr th {\n",
       "        vertical-align: top;\n",
       "    }\n",
       "\n",
       "    .dataframe thead th {\n",
       "        text-align: right;\n",
       "    }\n",
       "</style>\n",
       "<table border=\"1\" class=\"dataframe\">\n",
       "  <thead>\n",
       "    <tr style=\"text-align: right;\">\n",
       "      <th></th>\n",
       "      <th>sDRS</th>\n",
       "      <th>ij1</th>\n",
       "      <th>ij12</th>\n",
       "      <th>ij2a</th>\n",
       "      <th>ij2b</th>\n",
       "      <th>ij2c</th>\n",
       "      <th>ij2d</th>\n",
       "      <th>ik3</th>\n",
       "      <th>id4a</th>\n",
       "      <th>ie3e</th>\n",
       "      <th>...</th>\n",
       "      <th>cADD</th>\n",
       "      <th>cSOCFUNC</th>\n",
       "      <th>sPURS</th>\n",
       "      <th>cURIN</th>\n",
       "      <th>num_assesments</th>\n",
       "      <th>OutcomeT0</th>\n",
       "      <th>OutcomeT1</th>\n",
       "      <th>OutcomeT0Date</th>\n",
       "      <th>OutcomeT1Date</th>\n",
       "      <th>treatment</th>\n",
       "    </tr>\n",
       "  </thead>\n",
       "  <tbody>\n",
       "    <tr>\n",
       "      <th>7</th>\n",
       "      <td>5.0</td>\n",
       "      <td>0.0</td>\n",
       "      <td>0.0</td>\n",
       "      <td>4.0</td>\n",
       "      <td>4.0</td>\n",
       "      <td>0.0</td>\n",
       "      <td>0.0</td>\n",
       "      <td>0.0</td>\n",
       "      <td>0.0</td>\n",
       "      <td>0.0</td>\n",
       "      <td>...</td>\n",
       "      <td>0.0</td>\n",
       "      <td>0</td>\n",
       "      <td>4.0</td>\n",
       "      <td>1.0</td>\n",
       "      <td>3</td>\n",
       "      <td>2.0</td>\n",
       "      <td>2.0</td>\n",
       "      <td>2006-08-01</td>\n",
       "      <td>2006-08-13</td>\n",
       "      <td>0</td>\n",
       "    </tr>\n",
       "    <tr>\n",
       "      <th>8</th>\n",
       "      <td>0.0</td>\n",
       "      <td>0.0</td>\n",
       "      <td>0.0</td>\n",
       "      <td>4.0</td>\n",
       "      <td>0.0</td>\n",
       "      <td>0.0</td>\n",
       "      <td>0.0</td>\n",
       "      <td>0.0</td>\n",
       "      <td>0.0</td>\n",
       "      <td>0.0</td>\n",
       "      <td>...</td>\n",
       "      <td>0.0</td>\n",
       "      <td>0</td>\n",
       "      <td>3.0</td>\n",
       "      <td>2.0</td>\n",
       "      <td>2</td>\n",
       "      <td>7.0</td>\n",
       "      <td>7.0</td>\n",
       "      <td>2006-05-30</td>\n",
       "      <td>2006-08-15</td>\n",
       "      <td>0</td>\n",
       "    </tr>\n",
       "    <tr>\n",
       "      <th>15</th>\n",
       "      <td>1.0</td>\n",
       "      <td>0.0</td>\n",
       "      <td>0.0</td>\n",
       "      <td>2.0</td>\n",
       "      <td>2.0</td>\n",
       "      <td>0.0</td>\n",
       "      <td>4.0</td>\n",
       "      <td>0.0</td>\n",
       "      <td>1.0</td>\n",
       "      <td>0.0</td>\n",
       "      <td>...</td>\n",
       "      <td>0.0</td>\n",
       "      <td>0</td>\n",
       "      <td>3.0</td>\n",
       "      <td>1.0</td>\n",
       "      <td>4</td>\n",
       "      <td>0.0</td>\n",
       "      <td>0.0</td>\n",
       "      <td>2006-07-14</td>\n",
       "      <td>2006-07-28</td>\n",
       "      <td>0</td>\n",
       "    </tr>\n",
       "  </tbody>\n",
       "</table>\n",
       "<p>3 rows × 87 columns</p>\n",
       "</div>"
      ],
      "text/plain": [
       "    sDRS  ij1  ij12  ij2a  ij2b  ij2c  ij2d  ik3  id4a  ie3e  ...  cADD  \\\n",
       "7    5.0  0.0   0.0   4.0   4.0   0.0   0.0  0.0   0.0   0.0  ...   0.0   \n",
       "8    0.0  0.0   0.0   4.0   0.0   0.0   0.0  0.0   0.0   0.0  ...   0.0   \n",
       "15   1.0  0.0   0.0   2.0   2.0   0.0   4.0  0.0   1.0   0.0  ...   0.0   \n",
       "\n",
       "    cSOCFUNC  sPURS  cURIN  num_assesments  OutcomeT0  OutcomeT1  \\\n",
       "7          0    4.0    1.0               3        2.0        2.0   \n",
       "8          0    3.0    2.0               2        7.0        7.0   \n",
       "15         0    3.0    1.0               4        0.0        0.0   \n",
       "\n",
       "    OutcomeT0Date  OutcomeT1Date treatment  \n",
       "7      2006-08-01     2006-08-13         0  \n",
       "8      2006-05-30     2006-08-15         0  \n",
       "15     2006-07-14     2006-07-28         0  \n",
       "\n",
       "[3 rows x 87 columns]"
      ]
     },
     "execution_count": 23,
     "metadata": {},
     "output_type": "execute_result"
    }
   ],
   "source": [
    "# drop rows with missing outcome or treatment \n",
    "df = df.dropna(subset = ['OutcomeT0', 'OutcomeT1', 'treatment'])\n",
    "df.head(3)"
   ]
  },
  {
   "cell_type": "markdown",
   "id": "13ffd723",
   "metadata": {},
   "source": [
    "### 2.g Select Relevant Period\n",
    "\n",
    "Because the base data is too crude (the time periods between follow-up and baseline may be too far apart), we want to select a suitable period between observations. In essence, we aim to select a time window which is, on the one hand, determined by the minimum time (``PERIOD_MIN``) between baseline measurement and follow-up measurement and the maximum of that time window (``PERIOD_MAX``)."
   ]
  },
  {
   "cell_type": "code",
   "execution_count": 24,
   "id": "2feba781",
   "metadata": {},
   "outputs": [
    {
     "data": {
      "text/plain": [
       "174"
      ]
     },
     "execution_count": 24,
     "metadata": {},
     "output_type": "execute_result"
    }
   ],
   "source": [
    "# get difference between dates\n",
    "df['date_diff'] = df['OutcomeT1Date'] - df['OutcomeT0Date'] \n",
    "df['date_diff'] = df['date_diff'].dt.days \n",
    "\n",
    "# select relevant period\n",
    "df = df[df['date_diff'] <= PERIOD_MAX]\n",
    "df = df[df['date_diff'] >= PERIOD_MIN]\n",
    "\n",
    "df = df.drop(columns = ['OutcomeT1Date', 'OutcomeT0Date', 'date_diff', 'iA9', OUTCOME, 'Clientid'])\n",
    "# examine how many treatment observations are left\n",
    "len(df[df['treatment']==1])"
   ]
  },
  {
   "cell_type": "markdown",
   "id": "479d5175",
   "metadata": {},
   "source": [
    "### 2.h Impute Missing Values\n",
    "\n",
    "In this part, we impute missing values. We use a standard KNN-imputer. If desired, it is possible to change the number of neighbours. Keep in mind that we can set this to ``False`` if we do not want to run it,"
   ]
  },
  {
   "cell_type": "code",
   "execution_count": 25,
   "id": "ff73cf5e",
   "metadata": {},
   "outputs": [],
   "source": [
    "not_needed = ['iI2aa', 'iI2ba', 'iI2ca', 'iI2da', 'iI2ea', 'iI2fa', 'iI2ga', 'iI2ha', 'iI2ia',\n",
    "             'iI2na', 'iI2ja', 'iI2ka', 'iI2la', 'iI2ma', 'iI2ebb']\n",
    "X = df.drop(columns = ['OutcomeT0', 'OutcomeT1', 'treatment'] + not_needed).columns"
   ]
  },
  {
   "cell_type": "code",
   "execution_count": 26,
   "id": "e749d27d",
   "metadata": {
    "scrolled": false
   },
   "outputs": [
    {
     "name": "stdout",
     "output_type": "stream",
     "text": [
      "Could not impute iI2oa. Dropped.\n"
     ]
    }
   ],
   "source": [
    "# #imputed_df = df.copy()\n",
    "\n",
    "# Initialize KNNImputer with the specified number of neighbors\n",
    "imputer = KNNImputer(n_neighbors=5)\n",
    "\n",
    "for col in X:\n",
    "    try:\n",
    "        df[[col]] = imputer.fit_transform(df[[col]].values)\n",
    "    except:\n",
    "        print(f\"Could not impute {col}. Dropped.\")\n",
    "        df = df.drop(columns = [col])\n",
    "        "
   ]
  },
  {
   "cell_type": "code",
   "execution_count": 27,
   "id": "98265fad",
   "metadata": {},
   "outputs": [],
   "source": [
    "# imputer = KNNImputer(n_neighbors=5)\n",
    "# df[X] = imputer.fit_transform(df[X].values)"
   ]
  },
  {
   "cell_type": "markdown",
   "id": "f1a768ca",
   "metadata": {},
   "source": [
    "### 2.i Handle Multicollinearity\n",
    "\n",
    "Here we will handle multi-collinear columns. Keep in mind that we can set this to ``False`` if we do not want to run it,"
   ]
  },
  {
   "cell_type": "code",
   "execution_count": 28,
   "id": "ba7767c0",
   "metadata": {},
   "outputs": [],
   "source": [
    "if REMOVE_MULTI_COL:\n",
    "    df = multicol(df, CORRELATION_THRESHOLD)"
   ]
  },
  {
   "cell_type": "code",
   "execution_count": 29,
   "id": "9ee22068",
   "metadata": {},
   "outputs": [
    {
     "name": "stdout",
     "output_type": "stream",
     "text": [
      "Index(['ij12', 'ij2b', 'ih5', 'ij6a', 'il7', 'iA2', 'sAGE_cat', 'ij2e', 'ij2l',\n",
      "       'ij2n', 'ij2t', 'ij2q', 'ij2r', 'ij6b', 'ij6c', 'in6b', 'in6c',\n",
      "       'cACTIV', 'iI2fa', 'iI2ha', 'iI2ja', 'iI2ka', 'iI2la', 'iI2ma', 'cDRUG',\n",
      "       'cBOWEL', 'cCARDIO', 'cCOGNIT', 'cCOMMUN', 'sDbSI', 'cDEHYD', 'cDELIR',\n",
      "       'iI2na', 'cFALLS', 'cFEEDTB', 'iI2ebb', 'cMOOD', 'cNUTR', 'cPAIN',\n",
      "       'cPACTIV', 'cPULCER', 'iB4', 'sABS', 'sCHESS', 'sCPS2', 'sDIVERT',\n",
      "       'aSRI', 'cADD', 'cSOCFUNC', 'cURIN', 'num_assesments', 'OutcomeT0',\n",
      "       'OutcomeT1', 'treatment'],\n",
      "      dtype='object')\n"
     ]
    }
   ],
   "source": [
    "print(df.columns)"
   ]
  },
  {
   "cell_type": "code",
   "execution_count": 30,
   "id": "7d31cfc0",
   "metadata": {},
   "outputs": [],
   "source": [
    "# drop num_assesment column, not relevant anymore\n",
    "if 'num_assesments' in df.columns:\n",
    "    df = df.drop(columns = ['num_assesments'])"
   ]
  },
  {
   "cell_type": "code",
   "execution_count": 31,
   "id": "d3063697",
   "metadata": {},
   "outputs": [],
   "source": [
    "# drop columns with nans\n",
    "df = df[df.columns[df.isna().sum()==0]]"
   ]
  },
  {
   "cell_type": "markdown",
   "id": "7e9f7af4",
   "metadata": {},
   "source": [
    "### 2k. Automated Feature Imporances\n",
    "\n",
    "In the next subsection, we obtain the most relevant features (according to the model). Think of it as an automated confounder detection tool. "
   ]
  },
  {
   "cell_type": "code",
   "execution_count": 32,
   "id": "dd69fcfa",
   "metadata": {},
   "outputs": [],
   "source": [
    "X = df.drop(columns = ['OutcomeT1', 'OutcomeT0'])\n",
    "y = df['OutcomeT1']"
   ]
  },
  {
   "cell_type": "code",
   "execution_count": 33,
   "id": "b6f62e91",
   "metadata": {},
   "outputs": [],
   "source": [
    "# select columns without nans\n",
    "#feature_column_names = df.columns[X.isna().sum()==0]\n",
    "feature_column_names = df.drop(columns = ['OutcomeT1', 'OutcomeT0']).columns"
   ]
  },
  {
   "cell_type": "code",
   "execution_count": 34,
   "id": "8534fbbb",
   "metadata": {},
   "outputs": [],
   "source": [
    "# perform lasso regression to obtain most important features\n",
    "scaler = StandardScaler()\n",
    "X_scaled = scaler.fit_transform(X)\n",
    "lasso = Lasso(alpha=0.1)\n",
    "lasso.fit(X_scaled, y)\n",
    "\n",
    "importance = np.abs(lasso.coef_)"
   ]
  },
  {
   "cell_type": "code",
   "execution_count": 35,
   "id": "beeb1f21",
   "metadata": {
    "scrolled": false
   },
   "outputs": [
    {
     "name": "stdout",
     "output_type": "stream",
     "text": [
      "Most important features (in order):\n",
      "aSRI: Self-reliance Index for HC.\n",
      "ij2b: Difficult or unable to turn self around and face the opposite direction when standing.\n",
      "cPULCER: Pressure Ulcer CAP.\n",
      "sDbSI: Deafblind Severity Index 0-5 range.\n",
      "cBOWEL: Bowel CAP.\n",
      "cPACTIV: Physical Activity Promotion CAP.\n",
      "cDEHYD: Dehydration CAP.\n",
      "cCOMMUN: Communication CAP.\n",
      "cFEEDTB: Feeding Tube CAP.\n",
      "cACTIV: Activities CAP.\n",
      "il7: Foot problems, eg bunions, hammertoes, overlapping toes, structural problems, infections, ulcers.\n",
      "cDRUG: Appropriate Medications CAP.\n",
      "cURIN: Urinary Incontinence CAP.\n",
      "cSOCFUNC: Social Function CAP.\n",
      "cCARDIO: Cardio-respiratory CAP.\n",
      "cDELIR: Delirium CAP.\n"
     ]
    }
   ],
   "source": [
    "feature_names = np.array(feature_column_names)  # replace with your column names\n",
    "important_features = feature_names[importance > 0]\n",
    "sorted_idx = np.argsort(importance[importance > 0])[::-1]\n",
    "sorted_important_features = important_features[sorted_idx]\n",
    "\n",
    "print(\"Most important features (in order):\")\n",
    "for feature in sorted_important_features:\n",
    "    try:\n",
    "        print(f'{feature}: {encoding[feature.lower()]}.')\n",
    "    except:\n",
    "        pass"
   ]
  },
  {
   "cell_type": "code",
   "execution_count": 36,
   "id": "eff7bf1e",
   "metadata": {},
   "outputs": [],
   "source": [
    "# check which variables are relevant for the prediction according to the model\n",
    "all_vars = []\n",
    "\n",
    "# select variables\n",
    "for feature in df.columns: \n",
    "#     if feature in feature_names[importance > 0] and feature not in primary_vars:\n",
    "#         print(feature)#all_vars.append\n",
    "    if feature in feature_names[importance > 0] or feature in primary_vars or feature in ['OutcomeT0','OutcomeT1', 'treatment']:\n",
    "        #print(feature)#all_vars.append\n",
    "        all_vars.append(feature)"
   ]
  },
  {
   "cell_type": "markdown",
   "id": "a372ca3b",
   "metadata": {},
   "source": [
    "### 2.j Handle Empty Columns\n",
    "\n",
    "In the process, it may be that we end up with columns that contain only $0$ values. We want to drop these columns, as they are not informative."
   ]
  },
  {
   "cell_type": "code",
   "execution_count": 37,
   "id": "b6579421",
   "metadata": {},
   "outputs": [
    {
     "name": "stdout",
     "output_type": "stream",
     "text": [
      "ij2e - Chest pain dropped.\n",
      "ij2l - Diarrhea dropped.\n",
      "ij2n - Vomiting dropped.\n",
      "ij2t - Aspiration dropped.\n",
      "ij2q - Fever Aspiration dropped.\n",
      "ij2r - GI or GU bleeding dropped.\n",
      "ij6b - Experiencing an acute episode, or a flare-up of a recurrent or chronic problem dropped.\n",
      "ij6c - End-stage disease, 6 or fewer months to live dropped.\n",
      "in6b - Unkown dropped.\n",
      "in6c - Unkown dropped.\n"
     ]
    }
   ],
   "source": [
    "# get a list of coviariate columns\n",
    "X = df.drop(columns = ['OutcomeT1', 'OutcomeT0', 'treatment']).columns\n",
    "\n",
    "# drop columns that only have 0 values\n",
    "for col in X:\n",
    "    if len(df[df[col]==0]) == len(df):\n",
    "        print(f\"{col} - {encoding[col.lower()]} dropped.\" )\n",
    "        df = df.drop(columns = [col])"
   ]
  },
  {
   "cell_type": "markdown",
   "id": "391772f0",
   "metadata": {},
   "source": [
    "### 2.k Store CSV\n",
    "\n",
    "In the last part of this notebook, we will store that data."
   ]
  },
  {
   "cell_type": "code",
   "execution_count": 38,
   "id": "98b6e9b6",
   "metadata": {},
   "outputs": [],
   "source": [
    "#df = df.drop(columns = 'num_assesments')\n",
    "df.to_csv(f\"data/03-10-2023-Dutch_LTCF_cleaned_data_with_selected_covar_{TREATMENT}-{OUTCOME}.csv\", index = False)"
   ]
  },
  {
   "cell_type": "markdown",
   "id": "a9e28108",
   "metadata": {},
   "source": [
    "### Note to Teams: Please Start Here\n",
    "\n",
    "**MAKE SURE THAT THE DATA IS IN THE EXACT FORMAT AS BELOW.**\n",
    "\n",
    "Checklist:\n",
    "\n",
    "1. The covariates must come first.\n",
    "2. Then, there must be the outcome at baseline called ``OutcomeT0``.\n",
    "3. There must be an outcome at followup called ``OutcomeT1``.\n",
    "4. You may have a propensity score columns (``ps``), but this is not required. Same for clusters.\n",
    "5. There must be a treatment column *at the end* called ``treatment``. \n",
    "\n",
    "Good luck!"
   ]
  },
  {
   "cell_type": "markdown",
   "id": "2d09e493",
   "metadata": {},
   "source": [
    "## Part 3. Machine Learning\n",
    "\n",
    "Having processed the data, we can now move on the the machine learning (ML) part. Recall that we model using the meta-learning paradigm. Below is a schematic depiction of the process."
   ]
  },
  {
   "cell_type": "markdown",
   "id": "f21542a9",
   "metadata": {},
   "source": [
    "![alt text](ModelGoal.jpg)"
   ]
  },
  {
   "cell_type": "markdown",
   "id": "fa5e0980",
   "metadata": {},
   "source": [
    "As can be seen, for a given patient, we can - *after training* - provide the details of that patient. These details are the outcome at baseline (``OutcomeT0``), the covariates and whether or not we include treatment. This allows us to compute the **individual treatment effect** (ITE), the predicted effect unter treatment minus the predicted effect under control.\n",
    "\n",
    "However, before we are able to estimate the ITE for a patient, we need to train the model. In meta-learning we always train two models. The first model is trained on the control group and the second model is trained on the treated group. Let us now first state what the ``outcome`` and ``intervention`` variables are.  "
   ]
  },
  {
   "cell_type": "markdown",
   "id": "0b4a4fab",
   "metadata": {},
   "source": [
    "Next, we want to select the models. Here we will use ``RandomForestRegressor()``."
   ]
  },
  {
   "cell_type": "code",
   "execution_count": 39,
   "id": "3c0f03e0",
   "metadata": {},
   "outputs": [],
   "source": [
    "model0 = RandomForestRegressor()\n",
    "model1 = RandomForestRegressor()"
   ]
  },
  {
   "cell_type": "markdown",
   "id": "f5363a98",
   "metadata": {},
   "source": [
    "Then, we want to retrieve the data. We can use the data from above, but here we will read the file. "
   ]
  },
  {
   "cell_type": "code",
   "execution_count": 40,
   "id": "45337bf7",
   "metadata": {},
   "outputs": [],
   "source": [
    "# call your data file here\n",
    "FILE = f\"data/03-10-2023-Dutch_LTCF_cleaned_data_with_selected_covar_{TREATMENT}-{OUTCOME}.csv\""
   ]
  },
  {
   "cell_type": "markdown",
   "id": "f3ac62fe",
   "metadata": {},
   "source": [
    "Afterwards, we can run the model. The only thing to do is to run the ``run_model``-function below. "
   ]
  },
  {
   "cell_type": "code",
   "execution_count": 41,
   "id": "c87d1784",
   "metadata": {},
   "outputs": [
    {
     "name": "stdout",
     "output_type": "stream",
     "text": [
      "DF lenght after undersampling: 348\n"
     ]
    }
   ],
   "source": [
    "metrics, predictions_t, predictions_c, y_test_t, y_test_c, ites_test, ites_train, X_test_t, X_test_c = run_model(file = FILE, model0 = model0, model1 = model1, undersampled = UNDERSAMPLE, machine = \"RandomForest\", num_iter = 1)"
   ]
  },
  {
   "cell_type": "markdown",
   "id": "59144fd5",
   "metadata": {},
   "source": [
    "We can now examine the performance of the model by calling ``metrics``."
   ]
  },
  {
   "cell_type": "code",
   "execution_count": 42,
   "id": "a23472f1",
   "metadata": {},
   "outputs": [
    {
     "data": {
      "text/html": [
       "<div>\n",
       "<style scoped>\n",
       "    .dataframe tbody tr th:only-of-type {\n",
       "        vertical-align: middle;\n",
       "    }\n",
       "\n",
       "    .dataframe tbody tr th {\n",
       "        vertical-align: top;\n",
       "    }\n",
       "\n",
       "    .dataframe thead th {\n",
       "        text-align: right;\n",
       "    }\n",
       "</style>\n",
       "<table border=\"1\" class=\"dataframe\">\n",
       "  <thead>\n",
       "    <tr style=\"text-align: right;\">\n",
       "      <th></th>\n",
       "      <th>RandomForest</th>\n",
       "    </tr>\n",
       "  </thead>\n",
       "  <tbody>\n",
       "    <tr>\n",
       "      <th>MAE_C</th>\n",
       "      <td>0.883143</td>\n",
       "    </tr>\n",
       "    <tr>\n",
       "      <th>MAE_T</th>\n",
       "      <td>1.298571</td>\n",
       "    </tr>\n",
       "    <tr>\n",
       "      <th>MSE_C</th>\n",
       "      <td>3.658237</td>\n",
       "    </tr>\n",
       "    <tr>\n",
       "      <th>MSE_T</th>\n",
       "      <td>4.237466</td>\n",
       "    </tr>\n",
       "    <tr>\n",
       "      <th>R2_C</th>\n",
       "      <td>0.633310</td>\n",
       "    </tr>\n",
       "    <tr>\n",
       "      <th>R2_T</th>\n",
       "      <td>0.690069</td>\n",
       "    </tr>\n",
       "  </tbody>\n",
       "</table>\n",
       "</div>"
      ],
      "text/plain": [
       "       RandomForest\n",
       "MAE_C      0.883143\n",
       "MAE_T      1.298571\n",
       "MSE_C      3.658237\n",
       "MSE_T      4.237466\n",
       "R2_C       0.633310\n",
       "R2_T       0.690069"
      ]
     },
     "execution_count": 42,
     "metadata": {},
     "output_type": "execute_result"
    }
   ],
   "source": [
    "metrics"
   ]
  },
  {
   "cell_type": "markdown",
   "id": "9644e60d",
   "metadata": {},
   "source": [
    "We can also visualise the model's *factual* predicted performance by calling the ``visualise`` function."
   ]
  },
  {
   "cell_type": "code",
   "execution_count": 43,
   "id": "61c67a82",
   "metadata": {},
   "outputs": [
    {
     "data": {
      "image/png": "[encoded data removed]",
      "text/plain": [
       "<Figure size 864x432 with 1 Axes>"
      ]
     },
     "metadata": {},
     "output_type": "display_data"
    }
   ],
   "source": [
    "machine = \"RandomForest\"\n",
    "visualise(predictions_t, predictions_c, y_test_t, y_test_c, machine=machine, target=OUTCOME, intervention=TREATMENT)"
   ]
  },
  {
   "cell_type": "markdown",
   "id": "2f8c4e25",
   "metadata": {},
   "source": [
    "Also, if we want to visualize the ITES, we can run the following function (``visualise_ites``):"
   ]
  },
  {
   "cell_type": "code",
   "execution_count": 44,
   "id": "54274955",
   "metadata": {},
   "outputs": [
    {
     "data": {
      "image/png": "[encoded data removed]",
      "text/plain": [
       "<Figure size 864x432 with 1 Axes>"
      ]
     },
     "metadata": {},
     "output_type": "display_data"
    }
   ],
   "source": [
    "visualise_ites(ites_test, machine = machine, intervention = TREATMENT, target = OUTCOME)"
   ]
  },
  {
   "cell_type": "code",
   "execution_count": 45,
   "id": "5367029e",
   "metadata": {},
   "outputs": [],
   "source": [
    "#visualise_ites(ites_train, machine = machine, intervention = TREATMENT, target = OUTCOME)"
   ]
  },
  {
   "cell_type": "markdown",
   "id": "55e356b6",
   "metadata": {},
   "source": [
    "## Part 4. Adaptive Model\n",
    "\n",
    "In this last part, we will predict the treatment effect using an adaptive model. This model was developed by us. As can be seen, there is a bit more coding involved, but the benefit is that it is easier to adapt this model to our preferences. "
   ]
  },
  {
   "cell_type": "markdown",
   "id": "1d1d8a6e",
   "metadata": {},
   "source": [
    "The first step is to make sure that our model runs on the proper device. "
   ]
  },
  {
   "cell_type": "code",
   "execution_count": 65,
   "id": "4126a786",
   "metadata": {},
   "outputs": [],
   "source": [
    "device = torch.device(\"cpu\")"
   ]
  },
  {
   "cell_type": "markdown",
   "id": "61593339",
   "metadata": {},
   "source": [
    "It is useful to have a small function that easily converts arrays to the correct ``torch``-objects: tensors."
   ]
  },
  {
   "cell_type": "code",
   "execution_count": 66,
   "id": "1f1eb063",
   "metadata": {},
   "outputs": [],
   "source": [
    "to_tensor = lambda x: torch.tensor(np.array(x), dtype = torch.float32).to(device)"
   ]
  },
  {
   "cell_type": "code",
   "execution_count": 67,
   "id": "598f600a",
   "metadata": {},
   "outputs": [],
   "source": [
    "FILE = f\"data/03-10-2023-Dutch_LTCF_cleaned_data_with_selected_covar_{TREATMENT}-{OUTCOME}.csv\"\n",
    "df = pd.read_csv(FILE)\n",
    "\n",
    "# nan_cols = list(df.columns[df.isna().any()])\n",
    "# df = df.drop(columns = [nan_cols])\n",
    "\n",
    "# apply min-max normalisation\n",
    "X = df.drop(columns = ['treatment', 'OutcomeT1']).columns\n",
    "df[X] = (df[X] - df[X].min()) / (df[X].max() - df[X].min())"
   ]
  },
  {
   "cell_type": "code",
   "execution_count": 68,
   "id": "512baadf",
   "metadata": {},
   "outputs": [],
   "source": [
    "df = df.dropna(axis=1)#columns[df.isna().any()]"
   ]
  },
  {
   "cell_type": "markdown",
   "id": "82db0f23",
   "metadata": {},
   "source": [
    "Because the model is a neural-network based architecture, it is usually helpful to apply min-max normalisation which converts the column values to \\[0,1\\] ranges."
   ]
  },
  {
   "cell_type": "markdown",
   "id": "d0436003",
   "metadata": {},
   "source": [
    "### 4 a. Perform Undersampling Procedure"
   ]
  },
  {
   "cell_type": "code",
   "execution_count": 69,
   "id": "b592fb3c",
   "metadata": {},
   "outputs": [
    {
     "name": "stdout",
     "output_type": "stream",
     "text": [
      "DF lenght after undersampling: 348\n"
     ]
    }
   ],
   "source": [
    "UNDERSAMPLE = True\n",
    "\n",
    "if UNDERSAMPLE:\n",
    "    freq_treated = len(df[df['treatment']==1])\n",
    "    control = df[df['treatment']==0].sample(freq_treated)\n",
    "    treated = df[df['treatment']==1]\n",
    "    df = pd.concat((control, treated))\n",
    "    \n",
    "print(f'DF lenght after undersampling: {len(df)}')"
   ]
  },
  {
   "cell_type": "markdown",
   "id": "7edac5f6",
   "metadata": {},
   "source": [
    "### 4.b Train-Test Splitting\n",
    "\n",
    "In the cell below, we perform train-test split. Note that we also split the train and test data into two groups: a control group and a treated group. Even though we do not explicItely use for train, it will be useful for the (sub-)group evaluation later on."
   ]
  },
  {
   "cell_type": "code",
   "execution_count": 70,
   "id": "7b5fb31d",
   "metadata": {},
   "outputs": [],
   "source": [
    "# variable setting for treatment\n",
    "t = 'treatment'\n",
    "# select the relevant outcome\n",
    "y = \"OutcomeT1\" \n",
    "# specify test size\n",
    "test_size = 0.2\n",
    "\n",
    "# Split groups into train and test\n",
    "X_train, X_test, y_train, y_test = train_test_split(df.drop(columns = [y]), df[['treatment', y]], test_size=test_size, random_state=42)"
   ]
  },
  {
   "cell_type": "markdown",
   "id": "47bab5c7",
   "metadata": {},
   "source": [
    "### 4.c Propensity Score Computation"
   ]
  },
  {
   "cell_type": "code",
   "execution_count": 71,
   "id": "72ccaf06",
   "metadata": {},
   "outputs": [],
   "source": [
    "# predict the propensity score\n",
    "\n",
    "PROPENSITY = False\n",
    "\n",
    "if PROPENSITY:\n",
    "    print(\"!\")\n",
    "    X_train[\"OutcomeT1\"] = y_train[\"OutcomeT1\"]\n",
    "    X_test[\"OutcomeT1\"] = y_test[\"OutcomeT1\"]\n",
    "    X = X_train.drop(columns = ['treatment']).columns\n",
    "    X = X_test.drop(columns = ['treatment']).columns\n",
    "    ps_model = LogisticRegression(C=1e2, max_iter=10000).fit(X_train[X], y_train['treatment'])\n",
    "    X_train['ps'] = ps_model.predict_proba(X_train[X])[:, 1]\n",
    "    X_test['ps'] = ps_model.predict_proba(X_test[X])[:, 1]\n",
    "    \n",
    "    # ensure that treatment is last column\n",
    "    X_train['treatment_new'] =  X_train['treatment']\n",
    "    X_train = X_train.drop(columns = ['treatment'])\n",
    "    X_train = X_train.rename(columns = {'treatment_new': 'treatment'})\n",
    "    \n",
    "    X_test['treatment_new'] =  X_test['treatment']\n",
    "    X_test = X_test.drop(columns = ['treatment'])\n",
    "    X_test = X_test.rename(columns = {'treatment_new': 'treatment'})\n",
    "    \n",
    "else:\n",
    "    X_train[\"OutcomeT1\"] = y_train[\"OutcomeT1\"]\n",
    "    X_test[\"OutcomeT1\"] = y_test[\"OutcomeT1\"]\n",
    "    \n",
    "    # drop columns\n",
    "    #X_train = X_train.drop(columns = [\"OutcomeT1\"])\n",
    "    #X_test = X_test.drop(columns = [\"OutcomeT1\"])\n",
    "    #X_train = X_train.drop(columns = [\"OutcomeT1\"])"
   ]
  },
  {
   "cell_type": "code",
   "execution_count": null,
   "id": "52c66fff",
   "metadata": {},
   "outputs": [],
   "source": []
  },
  {
   "cell_type": "code",
   "execution_count": null,
   "id": "3bbc8ae1",
   "metadata": {},
   "outputs": [],
   "source": []
  },
  {
   "cell_type": "code",
   "execution_count": 72,
   "id": "84e6cda5",
   "metadata": {},
   "outputs": [
    {
     "name": "stdout",
     "output_type": "stream",
     "text": [
      "Estimated outcome under control 4.12305246246597.\n",
      "Estimated outcome under treatment 3.91793822650638.\n",
      "tensor(-0.2497)\n"
     ]
    }
   ],
   "source": [
    "X = df.drop(columns = ['OutcomeT1', 'treatment']).columns\n",
    "\n",
    "#X_train = X_train.drop(columns = [\"ps\"])\n",
    "\n",
    "# Estimate the average treatment effect (group level)\n",
    "tau_est = doubly_robust(X_train, X=X, T='treatment', Y='OutcomeT1')\n",
    "tau_est = torch.tensor(tau_est, dtype = torch.float32).to(device)\n",
    "print(tau_est)\n",
    "\n",
    "# drop columns\n",
    "X_train = X_train.drop(columns = [\"OutcomeT1\"])\n",
    "X_test = X_test.drop(columns = [\"OutcomeT1\"])"
   ]
  },
  {
   "cell_type": "markdown",
   "id": "b357dffa",
   "metadata": {},
   "source": [
    "We also want to make sure that the data stuctures are in the right format. For this, we use ``to_tensor``."
   ]
  },
  {
   "cell_type": "code",
   "execution_count": 73,
   "id": "f3ccf203",
   "metadata": {},
   "outputs": [],
   "source": [
    "y_t = y_train[y_train['treatment']==1][y]\n",
    "y_c = y_train[y_train['treatment']==0][y]\n",
    "\n",
    "y_test_t = y_test[y_test['treatment']==1][y]\n",
    "y_test_c = y_test[y_test['treatment']==0][y]"
   ]
  },
  {
   "cell_type": "code",
   "execution_count": 74,
   "id": "fb3d2ea9",
   "metadata": {},
   "outputs": [],
   "source": [
    "# convert output to tensors\n",
    "x, y, y_t, y_c, x_test = to_tensor(X_train), to_tensor(y_train), to_tensor(y_t), to_tensor(y_c), to_tensor(X_test)"
   ]
  },
  {
   "cell_type": "markdown",
   "id": "5076a548",
   "metadata": {},
   "source": [
    "### 4.d Model Training\n",
    "\n",
    "The next step is to train the actual model. The code below sets some preliminary configurations."
   ]
  },
  {
   "cell_type": "code",
   "execution_count": 75,
   "id": "a118eb57",
   "metadata": {},
   "outputs": [],
   "source": [
    "# Configurations\n",
    "lr = 0.001\n",
    "epochs = 1000\n",
    "gamma = 2\n",
    "\n",
    "model = TARnetICFR(x.shape[1], 0.01, hidden_dim = 32*4).to(device)\n",
    "\n",
    "# Define the loss functions\n",
    "head_loss = nn.L1Loss() #nn.MSELoss()#nn.L1Loss() #torch.nn.HuberLoss(reduction = 'mean', delta = 1) #nn.MSELoss() # nn.L1Loss() #nn.MSELoss() \n",
    "\n",
    "# initialise optimiser\n",
    "optimizer = optim.Adam(model.parameters(), lr)\n",
    "\n",
    "u = len(y_t)  / (len(y_t)  + len(y_c))"
   ]
  },
  {
   "cell_type": "markdown",
   "id": "47eb592f",
   "metadata": {},
   "source": [
    "The code below is the training loop. On each loop, the model passes the data through the models, examines its performance and adjust the weights. Note that this model has four loss components:\n",
    "\n",
    "1. Component 1 (``loss1``) is to loss on the treated segment of the data.\n",
    "2. Component 2 (``loss2``) is to loss on the control segment of the data.\n",
    "3. Component 2 (``loss_cf_3``) is to loss on the counterfactual control segment of the data.\n",
    "4. Component 2 (``loss_cf_4``) is to loss on the counterfactual treated segment of the data."
   ]
  },
  {
   "cell_type": "code",
   "execution_count": 76,
   "id": "aba813bb",
   "metadata": {
    "scrolled": false
   },
   "outputs": [
    {
     "name": "stdout",
     "output_type": "stream",
     "text": [
      "Epoch 100/1000 | Loss: 4.3121\n",
      "RMSE for factual treated 2.834418579568235\n",
      "MAE for factual treated 1.265162365189914\n",
      "RMSE for factual control 1.1998393469107744\n",
      "MAE for factual treated 0.6850860651309897\n",
      "Epoch 200/1000 | Loss: 4.0648\n",
      "RMSE for factual treated 3.3406707593153446\n",
      "MAE for factual treated 1.4114560344866638\n",
      "RMSE for factual control 0.9974897525441941\n",
      "MAE for factual treated 0.6670200994192828\n",
      "Epoch 300/1000 | Loss: 3.8146\n",
      "RMSE for factual treated 4.110415781256581\n",
      "MAE for factual treated 1.5659197075613613\n",
      "RMSE for factual control 1.2505654451910617\n",
      "MAE for factual treated 0.6913690725114288\n",
      "Epoch 400/1000 | Loss: 2.7491\n",
      "RMSE for factual treated 4.262788170132751\n",
      "MAE for factual treated 1.4538973004653537\n",
      "RMSE for factual control 1.3142387447906916\n",
      "MAE for factual treated 0.7092469967901707\n",
      "Epoch 500/1000 | Loss: 2.6289\n",
      "RMSE for factual treated 5.338901653409002\n",
      "MAE for factual treated 1.7141617896228\n",
      "RMSE for factual control 1.1111453089049417\n",
      "MAE for factual treated 0.6292163195406518\n",
      "Epoch 600/1000 | Loss: 2.0349\n",
      "RMSE for factual treated 5.175464445006102\n",
      "MAE for factual treated 1.6016173879134243\n",
      "RMSE for factual control 1.0513362075788875\n",
      "MAE for factual treated 0.7123279226262395\n",
      "Epoch 700/1000 | Loss: 1.7965\n",
      "RMSE for factual treated 4.941038720092957\n",
      "MAE for factual treated 1.5738521855452965\n",
      "RMSE for factual control 1.366814660333692\n",
      "MAE for factual treated 0.7505709525288605\n",
      "Epoch 800/1000 | Loss: 1.5473\n",
      "RMSE for factual treated 7.486831565189425\n",
      "MAE for factual treated 1.9735638370801663\n",
      "RMSE for factual control 1.1833783816565349\n",
      "MAE for factual treated 0.6582770042303132\n",
      "Epoch 900/1000 | Loss: 1.3313\n",
      "RMSE for factual treated 5.66913772016405\n",
      "MAE for factual treated 1.6063268369641797\n",
      "RMSE for factual control 1.5073954609800104\n",
      "MAE for factual treated 0.7520164168644242\n",
      "Epoch 1000/1000 | Loss: 1.2860\n",
      "RMSE for factual treated 5.274923043855075\n",
      "MAE for factual treated 1.5909786661123406\n",
      "RMSE for factual control 1.5905678283298998\n",
      "MAE for factual treated 0.7655824459180599\n"
     ]
    }
   ],
   "source": [
    "# Define loss lists\n",
    "loss1_lst, loss2_lst, loss3_lst = [], [], []\n",
    "\n",
    "for epoch in range(epochs):\n",
    "    # Forward pass\n",
    "    output_t, output_c, _ = model(x)\n",
    "    \n",
    "    # Compute total loss and update the model's parameters\n",
    "    loss1, loss2 = head_loss(torch.squeeze(output_t), y_t), head_loss(torch.squeeze(output_c), y_c)\n",
    "    \n",
    "    pred_c_cf = model.forward_treated(x[x[:,-1]==0])\n",
    "    loss_cf_3 = (1 - u) * torch.mean((torch.squeeze(pred_c_cf) - (y_c + tau_est))**2)\n",
    "                 \n",
    "    pred_t_cf = model.forward_control(x[x[:,-1]==1])\n",
    "    loss_cf_4 = u * torch.mean((torch.squeeze(pred_t_cf) - (y_t - tau_est))**2)\n",
    "    \n",
    "    # losses added\n",
    "    loss = loss1 + (loss2) + loss_cf_3 + loss_cf_4 #+ (gamma * loss3)\n",
    "    # Backward pass and optimization\n",
    "    optimizer.zero_grad()\n",
    "    loss.backward()\n",
    "    optimizer.step()\n",
    "\n",
    "    # Print the loss every 10000 epochs\n",
    "    if (epoch + 1) % 100 == 0:\n",
    "        print(f'Epoch {epoch+1}/{epochs} | Loss: {loss.item():.4f}')\n",
    "        \n",
    "        # print intermediate results on test\n",
    "        x_test_t = x_test[x_test[:,-1]==1] \n",
    "        x_test_c = x_test[x_test[:,-1]==0] \n",
    "\n",
    "        # # examine intermediate factual test performance\n",
    "        y_t_pred = model.forward_treated(x_test_t).cpu().detach().numpy().reshape(len(x_test_t),)\n",
    "        y_c_pred = model.forward_control(x_test_c).cpu().detach().numpy().reshape(len(x_test_c),)\n",
    "\n",
    "        print(f\"RMSE for factual treated {mean_squared_error(y_t_pred, y_test_t)}\") \n",
    "        print(f\"MAE for factual treated {mean_absolute_error(y_t_pred, y_test_t)}\") \n",
    "        print(f\"RMSE for factual control {mean_squared_error(y_c_pred, y_test_c)}\") \n",
    "        print(f\"MAE for factual treated {mean_absolute_error(y_c_pred, y_test_c)}\") "
   ]
  },
  {
   "cell_type": "markdown",
   "id": "059d18d9",
   "metadata": {},
   "source": [
    "### 4.e Model Evaluation\n",
    "Having trained the model, we can no examine the performance on the test set. We first get the predictions for the treated and control groups. Then we visualise the predicted predicted vs. true values. "
   ]
  },
  {
   "cell_type": "code",
   "execution_count": 77,
   "id": "5eb28295",
   "metadata": {},
   "outputs": [
    {
     "data": {
      "image/png": "[encoded data removed]",
      "text/plain": [
       "<Figure size 864x432 with 1 Axes>"
      ]
     },
     "metadata": {},
     "output_type": "display_data"
    }
   ],
   "source": [
    "y_t_pred = model.forward_treated(x_test[x_test[:,-1]==1] ).cpu().detach().numpy()\n",
    "y_c_pred = model.forward_control(x_test[x_test[:,-1]==0] ).cpu().detach().numpy()\n",
    "\n",
    "machine = \"TARNet\"\n",
    "visualise(np.squeeze(y_t_pred), np.squeeze(y_c_pred), y_test_t, y_test_c, machine=machine, target=OUTCOME, intervention=TREATMENT)"
   ]
  },
  {
   "cell_type": "markdown",
   "id": "3a79aa5a",
   "metadata": {},
   "source": [
    "Next, we want to estimate the model's predictions of the individual treatment effect. We plot this in an ordered fashion (from most beneficial to least beneficial). The blue dots depict patients. On the y-axis, we find the effect size as predicted by the model. "
   ]
  },
  {
   "cell_type": "code",
   "execution_count": 78,
   "id": "17d7e756",
   "metadata": {
    "scrolled": false
   },
   "outputs": [
    {
     "name": "stdout",
     "output_type": "stream",
     "text": [
      "ATE_est = 3.020399332046509 - 3.225605010986328 = -0.20520536601543427.\n"
     ]
    },
    {
     "data": {
      "image/png": "[encoded data removed]",
      "text/plain": [
       "<Figure size 864x432 with 1 Axes>"
      ]
     },
     "metadata": {},
     "output_type": "display_data"
    }
   ],
   "source": [
    "# isolate and disconnect predicted values\n",
    "y_c_predt1 = model.forward_treated(x_test_c).cpu().detach().numpy()\n",
    "y_t_predt1 = model.forward_treated(x_test_t).cpu().detach().numpy()\n",
    "y_t_pred = np.concatenate((y_c_predt1, y_t_predt1))\n",
    "\n",
    "# isolate and disconnect predicted values\n",
    "y_c_predt0 = model.forward_control(x_test_c).cpu().detach().numpy() #np.array(y_test_c).reshape(-1,1) #model.forward_control(x_test_c).cpu().detach().numpy()\n",
    "y_t_predt0 = model.forward_control(x_test_t).cpu().detach().numpy()\n",
    "\n",
    "y_c_pred = np.concatenate((y_c_predt0, y_t_predt0))\n",
    "\n",
    "# compute the ites and sort\n",
    "ites = y_t_pred - y_c_pred\n",
    "ites = [i[0] for i in ites]\n",
    "ites = sorted(list(ites))\n",
    "\n",
    "ate_model_est = np.mean(y_t_pred - y_c_pred)\n",
    "\n",
    "print(f\"ATE_est = {np.mean(y_t_pred)} - {np.mean(y_c_pred)} = {ate_model_est}.\")\n",
    "\n",
    "visualise_ites(np.array(ites), machine = machine, intervention = TREATMENT, target = OUTCOME)"
   ]
  },
  {
   "cell_type": "markdown",
   "id": "98995b60",
   "metadata": {},
   "source": [
    "## Predictions on Only Control"
   ]
  },
  {
   "cell_type": "code",
   "execution_count": 79,
   "id": "0afcf907",
   "metadata": {},
   "outputs": [
    {
     "name": "stdout",
     "output_type": "stream",
     "text": [
      "ATE_est = 1.940794825553894 - 1.844215750694275 = 0.09657905995845795.\n"
     ]
    },
    {
     "data": {
      "image/png": "[encoded data removed]",
      "text/plain": [
       "<Figure size 864x432 with 1 Axes>"
      ]
     },
     "metadata": {},
     "output_type": "display_data"
    }
   ],
   "source": [
    "# isolate and disconnect predicted values\n",
    "y_c_predt1 = model.forward_treated(x_test_c).cpu().detach().numpy()\n",
    "\n",
    "# isolate and disconnect predicted values\n",
    "y_c_predt0 = model.forward_control(x_test_c).cpu().detach().numpy() \n",
    "\n",
    "# compute the ites and sort\n",
    "ites = y_c_predt1 - y_c_predt0\n",
    "ites = [i[0] for i in ites]\n",
    "ites = sorted(list(ites))\n",
    "\n",
    "ate_model_est = np.mean(y_c_predt1 - y_c_predt0)\n",
    "\n",
    "print(f\"ATE_est = {np.mean(y_c_predt1)} - {np.mean(y_c_predt0)} = {ate_model_est}.\")\n",
    "\n",
    "visualise_ites(np.array(ites), machine = machine, intervention = TREATMENT, target = OUTCOME)"
   ]
  },
  {
   "cell_type": "markdown",
   "id": "a388ee60",
   "metadata": {},
   "source": [
    "### 4.e Variable Importances"
   ]
  },
  {
   "cell_type": "code",
   "execution_count": 80,
   "id": "a8cde8d1",
   "metadata": {
    "scrolled": true
   },
   "outputs": [
    {
     "name": "stdout",
     "output_type": "stream",
     "text": [
      "0.27016696\n",
      "Feature importances:\n"
     ]
    },
    {
     "data": {
      "text/html": [
       "<div>\n",
       "<style scoped>\n",
       "    .dataframe tbody tr th:only-of-type {\n",
       "        vertical-align: middle;\n",
       "    }\n",
       "\n",
       "    .dataframe tbody tr th {\n",
       "        vertical-align: top;\n",
       "    }\n",
       "\n",
       "    .dataframe thead th {\n",
       "        text-align: right;\n",
       "    }\n",
       "</style>\n",
       "<table border=\"1\" class=\"dataframe\">\n",
       "  <thead>\n",
       "    <tr style=\"text-align: right;\">\n",
       "      <th></th>\n",
       "      <th>icodes</th>\n",
       "      <th>meanings</th>\n",
       "      <th>importance_values</th>\n",
       "    </tr>\n",
       "  </thead>\n",
       "  <tbody>\n",
       "    <tr>\n",
       "      <th>0</th>\n",
       "      <td>treatment</td>\n",
       "      <td>treatment not found</td>\n",
       "      <td>-69.024010</td>\n",
       "    </tr>\n",
       "    <tr>\n",
       "      <th>1</th>\n",
       "      <td>outcomet0</td>\n",
       "      <td>OutcomeT0 not found</td>\n",
       "      <td>-51.597618</td>\n",
       "    </tr>\n",
       "    <tr>\n",
       "      <th>2</th>\n",
       "      <td>cmood</td>\n",
       "      <td>Mood CAP</td>\n",
       "      <td>-4.506321</td>\n",
       "    </tr>\n",
       "    <tr>\n",
       "      <th>3</th>\n",
       "      <td>ccommun</td>\n",
       "      <td>Communication CAP</td>\n",
       "      <td>-4.183483</td>\n",
       "    </tr>\n",
       "    <tr>\n",
       "      <th>4</th>\n",
       "      <td>ij2b</td>\n",
       "      <td>Difficult or unable to turn self around and fa...</td>\n",
       "      <td>-3.433951</td>\n",
       "    </tr>\n",
       "    <tr>\n",
       "      <th>5</th>\n",
       "      <td>cactiv</td>\n",
       "      <td>Activities CAP</td>\n",
       "      <td>-3.336401</td>\n",
       "    </tr>\n",
       "    <tr>\n",
       "      <th>6</th>\n",
       "      <td>ij6a</td>\n",
       "      <td>Conditions diseases make cognitive, ADL, mood,...</td>\n",
       "      <td>-3.324348</td>\n",
       "    </tr>\n",
       "    <tr>\n",
       "      <th>7</th>\n",
       "      <td>il7</td>\n",
       "      <td>Foot problems, eg bunions, hammertoes, overlap...</td>\n",
       "      <td>-3.222883</td>\n",
       "    </tr>\n",
       "    <tr>\n",
       "      <th>8</th>\n",
       "      <td>cfeedtb</td>\n",
       "      <td>Feeding Tube CAP</td>\n",
       "      <td>-2.830459</td>\n",
       "    </tr>\n",
       "    <tr>\n",
       "      <th>9</th>\n",
       "      <td>ih5</td>\n",
       "      <td>Ostomy</td>\n",
       "      <td>-2.448255</td>\n",
       "    </tr>\n",
       "    <tr>\n",
       "      <th>10</th>\n",
       "      <td>sdivert</td>\n",
       "      <td>sDIVERT Scale  1-6 range</td>\n",
       "      <td>-2.402270</td>\n",
       "    </tr>\n",
       "    <tr>\n",
       "      <th>11</th>\n",
       "      <td>cpactiv</td>\n",
       "      <td>Physical Activity Promotion CAP</td>\n",
       "      <td>-2.009056</td>\n",
       "    </tr>\n",
       "    <tr>\n",
       "      <th>12</th>\n",
       "      <td>curin</td>\n",
       "      <td>Urinary Incontinence CAP</td>\n",
       "      <td>-1.805160</td>\n",
       "    </tr>\n",
       "    <tr>\n",
       "      <th>13</th>\n",
       "      <td>cdelir</td>\n",
       "      <td>Delirium CAP</td>\n",
       "      <td>-1.675256</td>\n",
       "    </tr>\n",
       "    <tr>\n",
       "      <th>14</th>\n",
       "      <td>sabs</td>\n",
       "      <td>sABS Aggressive Behaviour Scale 0-12 range =0 ...</td>\n",
       "      <td>-1.416433</td>\n",
       "    </tr>\n",
       "    <tr>\n",
       "      <th>15</th>\n",
       "      <td>ccardio</td>\n",
       "      <td>Cardio-respiratory CAP</td>\n",
       "      <td>-1.160699</td>\n",
       "    </tr>\n",
       "    <tr>\n",
       "      <th>16</th>\n",
       "      <td>sdbsi</td>\n",
       "      <td>Deafblind Severity Index 0-5 range</td>\n",
       "      <td>-1.079639</td>\n",
       "    </tr>\n",
       "    <tr>\n",
       "      <th>17</th>\n",
       "      <td>scps2</td>\n",
       "      <td>sCPS2 not found</td>\n",
       "      <td>-1.078363</td>\n",
       "    </tr>\n",
       "    <tr>\n",
       "      <th>18</th>\n",
       "      <td>csocfunc</td>\n",
       "      <td>Social Function CAP</td>\n",
       "      <td>-1.066713</td>\n",
       "    </tr>\n",
       "    <tr>\n",
       "      <th>19</th>\n",
       "      <td>cnutr</td>\n",
       "      <td>Nutrition CAP</td>\n",
       "      <td>-0.962389</td>\n",
       "    </tr>\n",
       "    <tr>\n",
       "      <th>20</th>\n",
       "      <td>schess</td>\n",
       "      <td>sCHESS (range 0-5): Changes in Health, End-sta...</td>\n",
       "      <td>-0.778972</td>\n",
       "    </tr>\n",
       "    <tr>\n",
       "      <th>21</th>\n",
       "      <td>ccognit</td>\n",
       "      <td>Cognitive CAP</td>\n",
       "      <td>-0.725401</td>\n",
       "    </tr>\n",
       "    <tr>\n",
       "      <th>22</th>\n",
       "      <td>cadd</td>\n",
       "      <td>Smoking and Drinking CAP</td>\n",
       "      <td>-0.713761</td>\n",
       "    </tr>\n",
       "    <tr>\n",
       "      <th>23</th>\n",
       "      <td>cpain</td>\n",
       "      <td>Pain CAP</td>\n",
       "      <td>-0.500811</td>\n",
       "    </tr>\n",
       "    <tr>\n",
       "      <th>24</th>\n",
       "      <td>asri</td>\n",
       "      <td>Self-reliance Index for HC</td>\n",
       "      <td>-0.490172</td>\n",
       "    </tr>\n",
       "    <tr>\n",
       "      <th>25</th>\n",
       "      <td>cdehyd</td>\n",
       "      <td>Dehydration CAP</td>\n",
       "      <td>-0.469926</td>\n",
       "    </tr>\n",
       "    <tr>\n",
       "      <th>26</th>\n",
       "      <td>cfalls</td>\n",
       "      <td>Falls CAP</td>\n",
       "      <td>-0.432501</td>\n",
       "    </tr>\n",
       "    <tr>\n",
       "      <th>27</th>\n",
       "      <td>ia2</td>\n",
       "      <td>Gender</td>\n",
       "      <td>-0.412064</td>\n",
       "    </tr>\n",
       "    <tr>\n",
       "      <th>28</th>\n",
       "      <td>cbowel</td>\n",
       "      <td>Bowel CAP</td>\n",
       "      <td>-0.405488</td>\n",
       "    </tr>\n",
       "    <tr>\n",
       "      <th>29</th>\n",
       "      <td>cpulcer</td>\n",
       "      <td>Pressure Ulcer CAP</td>\n",
       "      <td>-0.395691</td>\n",
       "    </tr>\n",
       "    <tr>\n",
       "      <th>30</th>\n",
       "      <td>cdrug</td>\n",
       "      <td>Appropriate Medications CAP</td>\n",
       "      <td>-0.387840</td>\n",
       "    </tr>\n",
       "    <tr>\n",
       "      <th>31</th>\n",
       "      <td>ij12</td>\n",
       "      <td>Recent falls</td>\n",
       "      <td>-0.330382</td>\n",
       "    </tr>\n",
       "    <tr>\n",
       "      <th>32</th>\n",
       "      <td>sage_cat</td>\n",
       "      <td>sAGE_cat not found</td>\n",
       "      <td>-0.301302</td>\n",
       "    </tr>\n",
       "  </tbody>\n",
       "</table>\n",
       "</div>"
      ],
      "text/plain": [
       "       icodes                                           meanings  \\\n",
       "0   treatment                                treatment not found   \n",
       "1   outcomet0                                OutcomeT0 not found   \n",
       "2       cmood                                           Mood CAP   \n",
       "3     ccommun                                  Communication CAP   \n",
       "4        ij2b  Difficult or unable to turn self around and fa...   \n",
       "5      cactiv                                     Activities CAP   \n",
       "6        ij6a  Conditions diseases make cognitive, ADL, mood,...   \n",
       "7         il7  Foot problems, eg bunions, hammertoes, overlap...   \n",
       "8     cfeedtb                                   Feeding Tube CAP   \n",
       "9         ih5                                             Ostomy   \n",
       "10    sdivert                           sDIVERT Scale  1-6 range   \n",
       "11    cpactiv                    Physical Activity Promotion CAP   \n",
       "12      curin                           Urinary Incontinence CAP   \n",
       "13     cdelir                                       Delirium CAP   \n",
       "14       sabs  sABS Aggressive Behaviour Scale 0-12 range =0 ...   \n",
       "15    ccardio                             Cardio-respiratory CAP   \n",
       "16      sdbsi                 Deafblind Severity Index 0-5 range   \n",
       "17      scps2                                    sCPS2 not found   \n",
       "18   csocfunc                                Social Function CAP   \n",
       "19      cnutr                                      Nutrition CAP   \n",
       "20     schess  sCHESS (range 0-5): Changes in Health, End-sta...   \n",
       "21    ccognit                                      Cognitive CAP   \n",
       "22       cadd                           Smoking and Drinking CAP   \n",
       "23      cpain                                           Pain CAP   \n",
       "24       asri                         Self-reliance Index for HC   \n",
       "25     cdehyd                                    Dehydration CAP   \n",
       "26     cfalls                                          Falls CAP   \n",
       "27        ia2                                             Gender   \n",
       "28     cbowel                                          Bowel CAP   \n",
       "29    cpulcer                                 Pressure Ulcer CAP   \n",
       "30      cdrug                        Appropriate Medications CAP   \n",
       "31       ij12                                       Recent falls   \n",
       "32   sage_cat                                 sAGE_cat not found   \n",
       "\n",
       "    importance_values  \n",
       "0          -69.024010  \n",
       "1          -51.597618  \n",
       "2           -4.506321  \n",
       "3           -4.183483  \n",
       "4           -3.433951  \n",
       "5           -3.336401  \n",
       "6           -3.324348  \n",
       "7           -3.222883  \n",
       "8           -2.830459  \n",
       "9           -2.448255  \n",
       "10          -2.402270  \n",
       "11          -2.009056  \n",
       "12          -1.805160  \n",
       "13          -1.675256  \n",
       "14          -1.416433  \n",
       "15          -1.160699  \n",
       "16          -1.079639  \n",
       "17          -1.078363  \n",
       "18          -1.066713  \n",
       "19          -0.962389  \n",
       "20          -0.778972  \n",
       "21          -0.725401  \n",
       "22          -0.713761  \n",
       "23          -0.500811  \n",
       "24          -0.490172  \n",
       "25          -0.469926  \n",
       "26          -0.432501  \n",
       "27          -0.412064  \n",
       "28          -0.405488  \n",
       "29          -0.395691  \n",
       "30          -0.387840  \n",
       "31          -0.330382  \n",
       "32          -0.301302  "
      ]
     },
     "execution_count": 80,
     "metadata": {},
     "output_type": "execute_result"
    }
   ],
   "source": [
    "np.random.seed(42)\n",
    "\n",
    "# Calculate the baseline performance\n",
    "model.eval()  # Set the model to evaluation mode\n",
    "with torch.no_grad():  # Ensure no gradients are computed\n",
    "    output_t, output_c, _ = model(x)\n",
    "baseline_performance = mean_squared_error(output_t, y_t)\n",
    "print(baseline_performance)\n",
    "\n",
    "# Initialize a list to hold the feature importances\n",
    "feature_importances = []\n",
    "icodes = []\n",
    "meanings = []\n",
    "rank = []\n",
    "\n",
    "collist = X_train.columns\n",
    "\n",
    "# Calculate the importance for each feature\n",
    "for i in range(x.shape[1]):  # Iterate over each feature\n",
    "    # Save the original feature\n",
    "    original_feature = x[:, i].clone()\n",
    "    # Permute the feature\n",
    "    permuted_feature = original_feature[torch.randperm(original_feature.size(0))]\n",
    "    x[:, i] = permuted_feature\n",
    "    \n",
    "    # Calculate performance with the permuted data\n",
    "    with torch.no_grad():\n",
    "        output_t, output_c, _ = model(x)\n",
    "        \n",
    "    permuted_performance_t = mean_squared_error(output_t, y_t)\n",
    "    permuted_performance_c = mean_squared_error(output_c, y_c)\n",
    "    \n",
    "    permuted_performance = permuted_performance_t + permuted_performance_t\n",
    "    \n",
    "    # Calculate the importance as the change in performance\n",
    "    importance = baseline_performance - permuted_performance\n",
    "    feature_importances.append(importance)\n",
    "    \n",
    "    # Restore the original feature\n",
    "    x[:, i] = original_feature\n",
    "    \n",
    "# Rank the features by their importance\n",
    "sorted_features = np.argsort(feature_importances)[::-1]  # Indices of features, sorted by importance\n",
    "\n",
    "# Print the feature importances\n",
    "print(\"Feature importances:\")\n",
    "for i, feature_index in enumerate(sorted_features):\n",
    "    #print(f\"Feature {feature_index}: Importance {feature_importances[feature_index]}\")\n",
    "    icode = collist[feature_index]\n",
    "    icodes.append(icode.lower())\n",
    "    \n",
    "    try:\n",
    "        item = encoding[icode.lower()]\n",
    "        #print(item)\n",
    "        meanings.append(item)\n",
    "    except KeyError:\n",
    "        #print(f'{icode} not found')\n",
    "        meanings.append(f'{icode} not found')\n",
    "    #print(\"==================================================\")\n",
    "    \n",
    "rankings = pd.DataFrame(icodes, columns = ['icodes'])\n",
    "rankings['meanings'] = meanings\n",
    "rankings['importance_values'] = feature_importances\n",
    "\n",
    "rankings = rankings.sort_values(by = 'importance_values')\n",
    "rankings = rankings.reset_index().drop(columns = 'index')\n",
    "rankings"
   ]
  },
  {
   "cell_type": "markdown",
   "id": "ed2a4c7b",
   "metadata": {},
   "source": [
    "## Appendix "
   ]
  },
  {
   "cell_type": "code",
   "execution_count": 62,
   "id": "2437e5af",
   "metadata": {},
   "outputs": [],
   "source": [
    "# import numpy as np\n",
    "# from scipy import stats\n",
    "\n",
    "\n",
    "# ate = float(np.array(tau_est))\n",
    "\n",
    "# # Assuming you have calculated the standard error of the ATE (SE_ATE)\n",
    "# se_ate = np.std(ites)#2.0  # Replace with the actual standard error\n",
    "\n",
    "# # Set your significance level (alpha)\n",
    "# alpha = 0.05\n",
    "\n",
    "# # Calculate the test statistic\n",
    "# test_statistic = ate / se_ate\n",
    "\n",
    "# # Calculate the p-value for a two-tailed test\n",
    "# p_value = 2 * (1 - stats.norm.cdf(abs(test_statistic)))\n",
    "\n",
    "# # Print the results\n",
    "# print(\"ATE:\", ate)\n",
    "# print(\"Standard Error (SE_ATE):\", se_ate)\n",
    "# print(\"Test Statistic:\", test_statistic)\n",
    "# print(\"P-Value:\", p_value)\n",
    "\n",
    "# # Make a decision based on the p-value\n",
    "# if p_value < alpha:\n",
    "#     print(\"Reject the null hypothesis. There is a statistically significant causal effect.\")\n",
    "# else:\n",
    "#     print(\"Fail to reject the null hypothesis. There is not enough evidence of a significant causal effect.\")\n"
   ]
  },
  {
   "cell_type": "code",
   "execution_count": 63,
   "id": "719847ba",
   "metadata": {},
   "outputs": [],
   "source": [
    "# x_train_t = x[x[:,-1]==1] \n",
    "# x_train_c = x[x[:,-1]==0]\n",
    "# # isolate and disconnect predicted values\n",
    "# y_c_predt1 = model.forward_treated(x_train_c).cpu().detach().numpy()\n",
    "# y_t_predt1 = model.forward_treated(x_train_t).cpu().detach().numpy()\n",
    "# y_t_pred = np.concatenate((y_c_predt1, y_t_predt1))\n",
    "\n",
    "# # isolate and disconnect predicted values\n",
    "# y_c_predt0 = model.forward_control(x_train_c).cpu().detach().numpy()\n",
    "# y_t_predt0 = model.forward_control(x_train_t).cpu().detach().numpy()\n",
    "\n",
    "# y_c_pred = np.concatenate((y_c_predt0, y_t_predt0))\n",
    "\n",
    "# # compute the ites and sort\n",
    "# ites = y_t_pred - y_c_pred\n",
    "# ites = [i[0] for i in ites]\n",
    "# ites = sorted(list(ites))\n",
    "\n",
    "# ate_model_est = np.mean(y_t_pred - y_c_pred)\n",
    "\n",
    "# print(f\"ATE_est = {np.mean(y_t_pred)} - {np.mean(y_c_pred)} = {ate_model_est}.\")\n",
    "\n",
    "# visualise_ites(np.array(ites), machine = machine, intervention = TREATMENT, target = OUTCOME)"
   ]
  },
  {
   "cell_type": "code",
   "execution_count": 64,
   "id": "69aabff0",
   "metadata": {},
   "outputs": [],
   "source": [
    "# model_lst = [(RandomForestRegressor(),RandomForestRegressor()), (MLPRegressor(), MLPRegressor()), \n",
    "#             (GradientBoostingRegressor(), GradientBoostingRegressor()), (DecisionTreeRegressor(), DecisionTreeRegressor()),\n",
    "#             (LinearRegression(), LinearRegression()), (Ridge(), Ridge()), (Lasso(), Lasso()),\n",
    "#             (AdaBoostRegressor(), AdaBoostRegressor()), (ExtraTreesRegressor(), ExtraTreesRegressor()), \n",
    "#              (BaggingRegressor(), BaggingRegressor())]\n",
    "\n",
    "# for model1, model2 in model_lst:\n",
    "#     print(str(model1))\n",
    "#     metrics, predictions_t, predictions_c, y_test_t, y_test_c, ites_test, ites_train, X_test_t, X_test_c = run_model(file = FILE, include_propensity = PROPENSITY, undersampled = UNDERSAMPLE, model0 = model0, model1 = model1, machine = str(model1), num_iter = 1)\n",
    "#     #visualise(predictions_t, predictions_c, y_test_t, y_test_c, machine=machine, target=target, intervention=intervention)\n",
    "#     visualise_ites(ites_test, machine = str(model1), intervention = TREATMENT, target = OUTCOME)\n",
    "#     print(metrics)"
   ]
  },
  {
   "cell_type": "code",
   "execution_count": null,
   "id": "78360422",
   "metadata": {},
   "outputs": [],
   "source": []
  },
  {
   "cell_type": "code",
   "execution_count": null,
   "id": "dfc3d284",
   "metadata": {},
   "outputs": [],
   "source": []
  },
  {
   "cell_type": "code",
   "execution_count": null,
   "id": "05bc0d4f",
   "metadata": {},
   "outputs": [],
   "source": []
  }
 ],
 "metadata": {
  "kernelspec": {
   "display_name": "Python 3 (ipykernel)",
   "language": "python",
   "name": "python3"
  },
  "language_info": {
   "codemirror_mode": {
    "name": "ipython",
    "version": 3
   },
   "file_extension": ".py",
   "mimetype": "text/x-python",
   "name": "python",
   "nbconvert_exporter": "python",
   "pygments_lexer": "ipython3",
   "version": "3.9.7"
  }
 },
 "nbformat": 4,
 "nbformat_minor": 5
}
